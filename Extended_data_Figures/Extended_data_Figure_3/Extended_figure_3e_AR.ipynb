{
 "cells": [
  {
   "cell_type": "markdown",
   "id": "early-glucose",
   "metadata": {},
   "source": [
    "# Extended figure 2e"
   ]
  },
  {
   "cell_type": "code",
   "execution_count": null,
   "id": "cutting-aside",
   "metadata": {},
   "outputs": [],
   "source": [
    "import os\n",
    "import sys\n",
    "%matplotlib inline\n",
    "import scanpy as sc\n",
    "import pandas as pd\n",
    "import numpy as np\n",
    "import matplotlib.pyplot as plt\n",
    "from pathlib import Path\n",
    "import datetime\n",
    "import rpy2\n",
    "import seaborn as sns\n",
    "\n",
    "sc.settings.verbosity = 3  # verbosity: errors (0), warnings (1), info (2), hints (3)\n",
    "sc.settings.set_figure_params(dpi=300, dpi_save=300)"
   ]
  },
  {
   "cell_type": "code",
   "execution_count": null,
   "id": "spare-basics",
   "metadata": {},
   "outputs": [],
   "source": [
    "adata = sc.read('/home/jovyan/YS_project/YS/Data_objects/final_objects/Combined_YS_Fliver_raw_15112021.h5ad')"
   ]
  },
  {
   "cell_type": "code",
   "execution_count": null,
   "id": "economic-monitor",
   "metadata": {},
   "outputs": [],
   "source": [
    "adata = adata[adata.obs['tissue'].isin(['Liver'])]"
   ]
  },
  {
   "cell_type": "code",
   "execution_count": null,
   "id": "pregnant-nicaragua",
   "metadata": {},
   "outputs": [],
   "source": [
    "adata.obs['broad_cell.labels'].value_counts()"
   ]
  },
  {
   "cell_type": "code",
   "execution_count": null,
   "id": "solved-basin",
   "metadata": {},
   "outputs": [],
   "source": [
    "# normalise count data\n",
    "sc.pp.normalize_total(adata)\n",
    "# log the count data\n",
    "sc.pp.log1p(adata)\n",
    "# scale the data\n",
    "sc.pp.scale(adata, max_value=10)"
   ]
  },
  {
   "cell_type": "code",
   "execution_count": null,
   "id": "adopted-fitness",
   "metadata": {},
   "outputs": [],
   "source": [
    "adata.obs[\"broad_cell.labels\"] = adata.obs[\"broad_cell.labels\"].cat.reorder_categories([\n",
    "'Progenitor',\n",
    "'Lymphoid',\n",
    "'B_lymphoid',\n",
    "'DC',\n",
    "'Monocyte',\n",
    "'Kupffer_cell',\n",
    "'Granulocyte_precursor',\n",
    "'Mast_cell',\n",
    "'MK',\n",
    "'Erythroid',\n",
    "'Endothelium',\n",
    "'Fibroblast',\n",
    "'Hepatocyte'\n",
    "])\n",
    "\n",
    "gene_list1 = [\n",
    "'CD34',\n",
    "'SPINK2',\n",
    "'PRSS57',\n",
    "'CD7',\n",
    "'IL7R',\n",
    "'LTBR',\n",
    "'CLEC10A',\n",
    "'CD1C',\n",
    "'HLA-DRA',\n",
    "'LYZ',\n",
    "'FCGR3A',\n",
    "'CD4',\n",
    "'CD14',\n",
    "'C1QA',\n",
    "'TREM2',\n",
    "'CX3CR1',\n",
    "'P2RY12',\n",
    "'CLC',\n",
    "'MPO',\n",
    "'GATA2',\n",
    "'TPSAB1',\n",
    "'KIT',\n",
    "'ITGA2B',\n",
    "'ITGB3',\n",
    "'CLEC1B',\n",
    "'GYPA',\n",
    "'HBE1',\n",
    "'HBZ',\n",
    "'PECAM1',\n",
    "'IL33',\n",
    "'KDR',\n",
    "'PDGFRA',\n",
    "'THY1',\n",
    "'VCAN',\n",
    "'ACTA2',\n",
    "'ITGA1',\n",
    "'MCAM',\n",
    "'KRT19',\n",
    "'PDPN',\n",
    "'UPK3B',\n",
    "'EPCAM',\n",
    "'SPINK1',\n",
    "'ASGR1',\n",
    "'MKI67',\n",
    "'CDK1'\n",
    "]\n",
    "\n",
    "sc.pl.dotplot(adata, var_names=gene_list1, groupby='broad_cell.labels', use_raw=False, save='YS_main_fig1d_17032022.pdf')"
   ]
  },
  {
   "cell_type": "code",
   "execution_count": null,
   "id": "unknown-invalid",
   "metadata": {},
   "outputs": [],
   "source": [
    "protein = sc.read('/nfs/team298/ar32/YS_citeseq_submission_1_anndata_objects/cite_seq_protein_simple_processed_for_submission_20220407.h5ad')"
   ]
  },
  {
   "cell_type": "code",
   "execution_count": null,
   "id": "retained-server",
   "metadata": {},
   "outputs": [],
   "source": [
    "protein_markers = [\n",
    "'CD34',\n",
    "'CD7',\n",
    "'CD127',\n",
    "'LT_bR',\n",
    "'CD79a',\n",
    "'CD301',\n",
    "'CD1c',\n",
    "'HLA_DR',\n",
    "'CD16',\n",
    "'CD4',\n",
    "'CD14',\n",
    "'CD117',\n",
    "'CD41',\n",
    "'CD61',\n",
    "'CLEC1B',\n",
    "'CD235a',\n",
    "'CD31',\n",
    "'CD201',\n",
    "'CD309',\n",
    "'CD90',\n",
    "'CD326'\n",
    "]\n",
    "\n",
    "\n",
    "sc.pl.dotplot(protein, var_names=protein_markers, groupby='broad_anno', cmap='Blues', save='EL_citeseq_protein_dotplot_20220407.pdf')"
   ]
  }
 ],
 "metadata": {
  "kernelspec": {
   "display_name": "Python_env_Hlab",
   "language": "python",
   "name": "python_env_hlab"
  },
  "language_info": {
   "codemirror_mode": {
    "name": "ipython",
    "version": 3
   },
   "file_extension": ".py",
   "mimetype": "text/x-python",
   "name": "python",
   "nbconvert_exporter": "python",
   "pygments_lexer": "ipython3",
   "version": "3.9.4"
  }
 },
 "nbformat": 4,
 "nbformat_minor": 5
}
