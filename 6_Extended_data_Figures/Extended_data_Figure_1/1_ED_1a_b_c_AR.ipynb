{
 "cells": [
  {
   "cell_type": "markdown",
   "id": "theoretical-agriculture",
   "metadata": {},
   "source": [
    "# Extended_figure_1a_1b_1c"
   ]
  },
  {
   "cell_type": "code",
   "execution_count": null,
   "id": "challenging-highlight",
   "metadata": {},
   "outputs": [],
   "source": [
    "import scanpy as sc\n",
    "import pandas as pd\n",
    "import numpy as np\n",
    "import matplotlib.pyplot as plt\n",
    "import seaborn as sns; sns.set(color_codes=True)\n",
    "from pathlib import Path\n",
    "\n",
    "sc.settings.verbosity = 3  # verbosity: errors (0), warnings (1), info (2), hints (3)\n",
    "sc.settings.set_figure_params(dpi=300, dpi_save=300, color_map='viridis')"
   ]
  },
  {
   "cell_type": "code",
   "execution_count": null,
   "id": "revolutionary-portrait",
   "metadata": {},
   "outputs": [],
   "source": [
    "adata = sc.read(\"/home/jovyan/YS_project/YS/Data_objects/final_objects/A4_V7_YS_integrated_data_singlets_with_raw_counts_for_MS_plotting_20211111_with_obsp.h5ad\")"
   ]
  },
  {
   "cell_type": "code",
   "execution_count": null,
   "id": "intelligent-possession",
   "metadata": {},
   "outputs": [],
   "source": [
    "adata"
   ]
  },
  {
   "cell_type": "code",
   "execution_count": null,
   "id": "logical-opinion",
   "metadata": {},
   "outputs": [],
   "source": [
    "adata.obs"
   ]
  },
  {
   "cell_type": "code",
   "execution_count": null,
   "id": "indian-receipt",
   "metadata": {},
   "outputs": [],
   "source": [
    "list(adata.obs['broad_cell.labels'].unique())"
   ]
  },
  {
   "cell_type": "code",
   "execution_count": null,
   "id": "interstate-divide",
   "metadata": {},
   "outputs": [],
   "source": [
    "list(adata.obs['component'].unique())"
   ]
  },
  {
   "cell_type": "code",
   "execution_count": null,
   "id": "failing-moldova",
   "metadata": {},
   "outputs": [],
   "source": [
    "list(adata.obs['orig.dataset'].unique())"
   ]
  },
  {
   "cell_type": "markdown",
   "id": "reflected-hamilton",
   "metadata": {},
   "source": [
    "# Fig1b"
   ]
  },
  {
   "cell_type": "code",
   "execution_count": null,
   "id": "hidden-rogers",
   "metadata": {},
   "outputs": [],
   "source": [
    "var = \"broad_cell.labels\"\n",
    "#Create color dictionary\n",
    "cells = ['Endothelium','Progenitors','Erythroid','Endoderm','Macrophage','MK','Mesothelium','Fibroblast','Mast_cell','DC','Monocyte','Granulocyte_precursors','Microglia','Smooth_Muscle','Lymphoid']\n",
    "col = list(range(0, len(adata.obs[var].unique())))\n",
    "#col = adata.uns['cell.labels_colors']\n",
    "dic = dict(zip(cells,col))\n",
    "#Create a mappable field\n",
    "adata.obs['num'] = adata.obs[var]\n",
    "#map to adata.obs.col to create a caterorical column\n",
    "adata.obs['num'] = adata.obs['num'].map(dic)\n",
    "##Map to a pallete to use with umap\n",
    "#cells_list = pd.DataFrame(adata.obs[\"cell.labels\"].cat.categories)\n",
    "#cells_list['col'] = cells_list[0].map(dic)\n",
    "#col_pal = list(cells_list['col'])\n",
    "adata.obs['num'] = adata.obs['num'].astype(str)\n",
    "adata.obs[var+'_num'] = adata.obs['num'].astype(str) + \" : \" + adata.obs[var].astype(str)\n",
    "col_pal = [\"#d0352b\",\"#afbfcc\",\"#FFE8EC\",\"#bd7961\",\"#4c7bab\",\"#ee943f\",\"#eccd6e\",\"#b43c52\",\"#b0a789\",\"#6ea85b\",\"#b49fc8\",\"#05394a\",\"#1e38ad\",\"#5c865e\",\"#e0ee71\"]\n",
    "import matplotlib\n",
    "matplotlib.rcdefaults() #Reset matplot lb deafults as seaborne tends to mess with this\n",
    "fig, (ax1, ax2,) = plt.subplots(1,2, figsize=(10,10), gridspec_kw={'wspace':0,'width_ratios': [1,0]})\n",
    "p2 = sc.pl.umap(adata, color = (var+'_num') ,ax=ax2,show=False,title=\"\", palette= col_pal) #title=i\n",
    "p3 = sc.pl.umap(adata, color = \"num\",legend_loc=None,size=10,legend_fontsize='small',ax=ax1,show=False, palette= col_pal, title=var) #title=i\n",
    "fig.savefig(\"./figures/1b_main_umap.pdf\",bbox_inches='tight')"
   ]
  },
  {
   "cell_type": "markdown",
   "id": "artificial-inspector",
   "metadata": {},
   "source": [
    "# make column for mesothelium, mesoderm and endoderm and plot this instead of components"
   ]
  },
  {
   "cell_type": "code",
   "execution_count": null,
   "id": "enabling-carnival",
   "metadata": {},
   "outputs": [],
   "source": [
    "adata.obs['fig1b_mini'] = \"Mesoderm\"\n",
    "adata.obs.loc[(adata.obs['broad_cell.labels'] == \"Mesothelium\"), 'fig1b_mini'] = \"Mesothelium\"\n",
    "adata.obs.loc[(adata.obs['broad_cell.labels'] == \"Endoderm\"), 'fig1b_mini'] = \"Endoderm\"\n",
    "adata.obs['fig1b_mini'] = adata.obs['fig1b_mini'].astype('category')"
   ]
  },
  {
   "cell_type": "code",
   "execution_count": null,
   "id": "changing-august",
   "metadata": {},
   "outputs": [],
   "source": [
    "var = \"fig1b_mini\"\n",
    "#Create color dictionary\n",
    "cells = ['Mesoderm', 'Mesothelium', 'Endoderm']\n",
    "col = list(range(0, len(adata.obs[var].unique())))\n",
    "#col = adata.uns['cell.labels_colors']\n",
    "dic = dict(zip(cells,col))\n",
    "#Create a mappable field\n",
    "adata.obs['num'] = adata.obs[var]\n",
    "#map to adata.obs.col to create a caterorical column\n",
    "adata.obs['num'] = adata.obs['num'].map(dic)\n",
    "##Map to a pallete to use with umap\n",
    "#cells_list = pd.DataFrame(adata.obs[\"cell.labels\"].cat.categories)\n",
    "#cells_list['col'] = cells_list[0].map(dic)\n",
    "#col_pal = list(cells_list['col'])\n",
    "adata.obs['num'] = adata.obs['num'].astype(str)\n",
    "adata.obs[var+'_num'] = adata.obs['num'].astype(str) + \" : \" + adata.obs[var].astype(str)\n",
    "col_pal = [\"#F8F1C8\",\"#EBCB70\",\"#BB775E\"] \n",
    "import matplotlib\n",
    "matplotlib.rcdefaults() #Reset matplot lb deafults as seaborne tends to mess with this\n",
    "fig, (ax1, ax2,) = plt.subplots(1,2, figsize=(10,10), gridspec_kw={'wspace':0,'width_ratios': [1,0]})\n",
    "p2 = sc.pl.umap(adata, color = (var+'_num') ,ax=ax2,show=False,title=\"\", palette= col_pal) #title=i\n",
    "p3 = sc.pl.umap(adata, color = \"num\",legend_loc=None,size=10,legend_fontsize='small',ax=ax1,show=False, palette= col_pal, title=var) #title=i\n",
    "fig.savefig(\"./figures/1b_components_umap.pdf\",bbox_inches='tight')"
   ]
  },
  {
   "cell_type": "markdown",
   "id": "roman-diamond",
   "metadata": {},
   "source": [
    "# Ext 1a"
   ]
  },
  {
   "cell_type": "code",
   "execution_count": null,
   "id": "inside-unemployment",
   "metadata": {},
   "outputs": [],
   "source": [
    "var = \"orig.dataset\"\n",
    "#Create color dictionary\n",
    "cells = ['Wang_et_al_Cell_Stem Cell_2021', 'Popescu_et_al_Nature_2019', 'De_novo']\n",
    "col = list(range(0, len(adata.obs[var].unique())))\n",
    "#col = adata.uns['cell.labels_colors']\n",
    "dic = dict(zip(cells,col))\n",
    "#Create a mappable field\n",
    "adata.obs['num'] = adata.obs[var]\n",
    "#map to adata.obs.col to create a caterorical column\n",
    "adata.obs['num'] = adata.obs['num'].map(dic)\n",
    "##Map to a pallete to use with umap\n",
    "#cells_list = pd.DataFrame(adata.obs[\"cell.labels\"].cat.categories)\n",
    "#cells_list['col'] = cells_list[0].map(dic)\n",
    "#col_pal = list(cells_list['col'])\n",
    "adata.obs['num'] = adata.obs['num'].astype(str)\n",
    "adata.obs[var+'_num'] = adata.obs['num'].astype(str) + \" : \" + adata.obs[var].astype(str)\n",
    "#col_pal = [\"#98A3D2\",\"#495AA8\",\"#252D54\"] \n",
    "col_pal = [\"#495AA8\",\"#252D54\",\"#98A3D2\"] \n",
    "import matplotlib\n",
    "matplotlib.rcdefaults() #Reset matplot lb deafults as seaborne tends to mess with this\n",
    "fig, (ax1, ax2,) = plt.subplots(1,2, figsize=(10,10), gridspec_kw={'wspace':0,'width_ratios': [1,0]})\n",
    "p2 = sc.pl.umap(adata, color = (var+'_num') ,ax=ax2,show=False,title=\"\", palette= col_pal) #title=i\n",
    "p3 = sc.pl.umap(adata, color = \"num\",legend_loc=None,size=5,legend_fontsize='small',ax=ax1,show=False, palette= col_pal, title=var) #title=i\n",
    "fig.savefig(\"./figures/ext1a_umap.pdf\",bbox_inches='tight')"
   ]
  },
  {
   "cell_type": "markdown",
   "id": "neutral-differential",
   "metadata": {},
   "source": [
    "# Ext 1b"
   ]
  },
  {
   "cell_type": "code",
   "execution_count": null,
   "id": "determined-treat",
   "metadata": {},
   "outputs": [],
   "source": [
    "celltypes = ['Contents', 'Membrane', 'VA']\n",
    "adata.obs['component'] = adata.obs['component'].cat.reorder_categories(celltypes)\n",
    "\n",
    "#create numpy array for colours for each celltype to use\n",
    "new_colors = np.empty(len(adata.obs[\"component\"].cat.categories), dtype=object) \n",
    "\n",
    "#assign the colours for each category - will be in the same order as plotted so if wwant to reorder do before this stage as colour positions won't move\n",
    "new_colors[[0]] = '#F4B973' # Contents\n",
    "new_colors[[1]] = '#F87030' # Membrane\n",
    "new_colors[[2]] = '#FA8978' # VA\n",
    "\n",
    "#save colour assigned numpy array in uns\n",
    "adata.uns[\"component_colors\"] = new_colors # remember to keep '_colors' at the end of the column of plotting interest!"
   ]
  },
  {
   "cell_type": "code",
   "execution_count": null,
   "id": "inappropriate-exhibition",
   "metadata": {},
   "outputs": [],
   "source": [
    "sc.pl.umap(adata, color='component', groups='Membrane', size=2, save = 'ext1b_components_membrane_umap.pdf')"
   ]
  },
  {
   "cell_type": "code",
   "execution_count": null,
   "id": "demonstrated-mathematics",
   "metadata": {},
   "outputs": [],
   "source": [
    "sc.pl.umap(adata, color='component', groups='Contents', size=2, save = 'ext1b_components_contents_umap.pdf')"
   ]
  },
  {
   "cell_type": "code",
   "execution_count": null,
   "id": "collectible-update",
   "metadata": {},
   "outputs": [],
   "source": [
    "sc.pl.umap(adata, color='component', groups='VA', size=2, save = 'ext1b_components_VA_umap.pdf')"
   ]
  },
  {
   "cell_type": "code",
   "execution_count": null,
   "id": "editorial-maldives",
   "metadata": {},
   "outputs": [],
   "source": []
  },
  {
   "cell_type": "code",
   "execution_count": null,
   "id": "metropolitan-preparation",
   "metadata": {},
   "outputs": [],
   "source": []
  },
  {
   "cell_type": "code",
   "execution_count": null,
   "id": "offshore-bubble",
   "metadata": {},
   "outputs": [],
   "source": []
  },
  {
   "cell_type": "markdown",
   "id": "amended-maldives",
   "metadata": {},
   "source": [
    "# Whole umap individual annotations"
   ]
  },
  {
   "cell_type": "code",
   "execution_count": null,
   "id": "considerable-piano",
   "metadata": {},
   "outputs": [],
   "source": [
    "cells = [\n",
    "'HSPC_1',\n",
    "'HSPC_2',\n",
    "'CMP',\n",
    "'MEMP',\n",
    "'LMPP',\n",
    "'Lymphoid_progenitor',\n",
    "'MOP',\n",
    "'ILC_precursor',\n",
    "'NK',\n",
    "'pDC precursor',\n",
    "'Pre DC2',\n",
    "'Mono Mac pre DC2',\n",
    "'Cycling DC2',\n",
    "'Mono Mac DC2',\n",
    "'Mac DC2',\n",
    "'Promonocyte',\n",
    "'Monocyte',\n",
    "'Monocyte_Macrophage',\n",
    "'Pre_Macrophage',\n",
    "'Macrophage',\n",
    "'Microglia',\n",
    "'Neutrophil_precursor',\n",
    "'Eo_Baso_Mast_precursor',\n",
    "'Eo_Basophil',\n",
    "'Mast_cell',\n",
    "'MK',\n",
    "'Early_Erythroid',\n",
    "'Erythroid',\n",
    "'AEC',\n",
    "'HE',\n",
    "'Immature_EC',\n",
    "'Prolif_AEC',\n",
    "'Prolif_Sinusoidal_EC',\n",
    "'Sinusoidal_EC',\n",
    "'VWF_EC',\n",
    "'Fibroblast',\n",
    "'Smooth_Muscle',\n",
    "'Mesothelium',\n",
    "'Endoderm', \n",
    "]\n",
    "\n",
    "col_pal = [\n",
    "'#afbfcc',\n",
    "'#F0DB00',\n",
    "'#67839c',\n",
    "'#b87056',\n",
    "'#7a2839',\n",
    "'#FFFF99',\n",
    "'#AB0890',\n",
    "'#F25602',\n",
    "'#9b9b00',\n",
    "'#a6ee39',\n",
    "'#00FF00',\n",
    "'#53DDF3',\n",
    "'#a9e9b9',\n",
    "'#6ea85b',\n",
    "'#0DA6BE',\n",
    "'#e7d4e7',\n",
    "'#b49fc8',\n",
    "'#3e007c',\n",
    "'#66b1d2',\n",
    "'#4c7bab',\n",
    "'#1e38ad',\n",
    "'#05394a',\n",
    "'#814f75',\n",
    "'#634f81',\n",
    "'#b0a789',\n",
    "'#ee943f',\n",
    "'#ea9bc2',\n",
    "'#FFE8EC',\n",
    "'#f97864',\n",
    "'#eb2a0a',\n",
    "'#edad9d',\n",
    "'#f64528',\n",
    "'#D0352B',\n",
    "'#E1736C',\n",
    "'#752017',\n",
    "'#b43c52',\n",
    "'#5c865e',\n",
    "'#eccd6e',\n",
    "'#bd7961',\n",
    "]"
   ]
  },
  {
   "cell_type": "code",
   "execution_count": null,
   "id": "thirty-arbor",
   "metadata": {},
   "outputs": [],
   "source": [
    "adata.obs['cell.labels'] = adata.obs['cell.labels'].astype('category')\n",
    "adata.obs['cell.labels'] = adata.obs['cell.labels'].cat.reorder_categories(cells)"
   ]
  },
  {
   "cell_type": "code",
   "execution_count": null,
   "id": "bulgarian-nashville",
   "metadata": {},
   "outputs": [],
   "source": [
    "var = \"cell.labels\"\n",
    "#Create color dictionary\n",
    "#cells = ['Endothelium','Progenitors','Erythroid','Endoderm','Macrophage','MK','Mesothelium','Fibroblast','Mast_cell','DC','Monocyte','Granulocyte_precursors','Microglia','Smooth_Muscle','Lymphoid']\n",
    "col = list(range(0, len(adata.obs[var].unique())))\n",
    "#col = adata.uns['cell.labels_colors']\n",
    "dic = dict(zip(cells,col))\n",
    "#Create a mappable field\n",
    "adata.obs['num'] = adata.obs[var]\n",
    "#map to adata.obs.col to create a caterorical column\n",
    "adata.obs['num'] = adata.obs['num'].map(dic)\n",
    "##Map to a pallete to use with umap\n",
    "#cells_list = pd.DataFrame(adata.obs[\"cell.labels\"].cat.categories)\n",
    "#cells_list['col'] = cells_list[0].map(dic)\n",
    "#col_pal = list(cells_list['col'])\n",
    "adata.obs['num'] = adata.obs['num'].astype(str)\n",
    "adata.obs[var+'_num'] = adata.obs['num'].astype(str) + \" : \" + adata.obs[var].astype(str)\n",
    "#col_pal = [\"#d0352b\",\"#afbfcc\",\"#FFE8EC\",\"#bd7961\",\"#4c7bab\",\"#ee943f\",\"#eccd6e\",\"#b43c52\",\"#b0a789\",\"#6ea85b\",\"#b49fc8\",\"#05394a\",\"#1e38ad\",\"#5c865e\",\"#e0ee71\"]\n",
    "import matplotlib\n",
    "matplotlib.rcdefaults() #Reset matplot lb deafults as seaborne tends to mess with this\n",
    "fig, (ax1, ax2,) = plt.subplots(1,2, figsize=(10,10), gridspec_kw={'wspace':0,'width_ratios': [1,0]})\n",
    "p2 = sc.pl.umap(adata, color = (var+'_num') ,ax=ax2,show=False,title=\"\", palette= col_pal) #title=i\n",
    "p3 = sc.pl.umap(adata, color = \"num\",legend_loc=None,size=10,legend_fontsize='small',ax=ax1,show=False, palette= col_pal, title=var) #title=i\n",
    "fig.savefig(\"./figures/main_umap_individual_anno.pdf\",bbox_inches='tight')"
   ]
  },
  {
   "cell_type": "code",
   "execution_count": null,
   "id": "neither-conducting",
   "metadata": {},
   "outputs": [],
   "source": [
    "var = \"cell.labels\"\n",
    "#Create color dictionary\n",
    "#cells = ['Endothelium','Progenitors','Erythroid','Endoderm','Macrophage','MK','Mesothelium','Fibroblast','Mast_cell','DC','Monocyte','Granulocyte_precursors','Microglia','Smooth_Muscle','Lymphoid']\n",
    "col = list(range(0, len(adata.obs[var].unique())))\n",
    "#col = adata.uns['cell.labels_colors']\n",
    "dic = dict(zip(cells,col))\n",
    "#Create a mappable field\n",
    "adata.obs['num'] = adata.obs[var]\n",
    "#map to adata.obs.col to create a caterorical column\n",
    "adata.obs['num'] = adata.obs['num'].map(dic)\n",
    "##Map to a pallete to use with umap\n",
    "#cells_list = pd.DataFrame(adata.obs[\"cell.labels\"].cat.categories)\n",
    "#cells_list['col'] = cells_list[0].map(dic)\n",
    "#col_pal = list(cells_list['col'])\n",
    "adata.obs['num'] = adata.obs['num'].astype(str)\n",
    "adata.obs[var+'_num'] = adata.obs['num'].astype(str) + \" : \" + adata.obs[var].astype(str)\n",
    "#col_pal = [\"#d0352b\",\"#afbfcc\",\"#FFE8EC\",\"#bd7961\",\"#4c7bab\",\"#ee943f\",\"#eccd6e\",\"#b43c52\",\"#b0a789\",\"#6ea85b\",\"#b49fc8\",\"#05394a\",\"#1e38ad\",\"#5c865e\",\"#e0ee71\"]\n",
    "import matplotlib\n",
    "matplotlib.rcdefaults() #Reset matplot lb deafults as seaborne tends to mess with this\n",
    "fig, (ax1, ax2,) = plt.subplots(1,2, figsize=(10,10), gridspec_kw={'wspace':0,'width_ratios': [1,0]})\n",
    "p2 = sc.pl.umap(adata, color = (var+'_num') ,ax=ax2,show=False,title=\"\", palette= col_pal) #title=i\n",
    "p3 = sc.pl.umap(adata, color = \"num\",legend_loc='on data',size=10,legend_fontsize='small',ax=ax1,show=False, palette= col_pal, title=var) #title=i\n",
    "fig.savefig(\"./figures/main_umap_individual_anno_with_numbers.pdf\",bbox_inches='tight')"
   ]
  },
  {
   "cell_type": "code",
   "execution_count": null,
   "id": "herbal-abortion",
   "metadata": {},
   "outputs": [],
   "source": []
  },
  {
   "cell_type": "code",
   "execution_count": null,
   "id": "recent-typing",
   "metadata": {},
   "outputs": [],
   "source": []
  },
  {
   "cell_type": "code",
   "execution_count": null,
   "id": "driven-shooting",
   "metadata": {},
   "outputs": [],
   "source": [
    "adata.obs.groupby(['orig.dataset','component']).apply(len)"
   ]
  },
  {
   "cell_type": "code",
   "execution_count": null,
   "id": "statewide-transcription",
   "metadata": {},
   "outputs": [],
   "source": []
  },
  {
   "cell_type": "code",
   "execution_count": null,
   "id": "minute-hydrogen",
   "metadata": {},
   "outputs": [],
   "source": []
  },
  {
   "cell_type": "code",
   "execution_count": null,
   "id": "higher-fairy",
   "metadata": {},
   "outputs": [],
   "source": []
  },
  {
   "cell_type": "code",
   "execution_count": null,
   "id": "built-fashion",
   "metadata": {},
   "outputs": [],
   "source": []
  },
  {
   "cell_type": "markdown",
   "id": "minimal-diving",
   "metadata": {},
   "source": [
    "# Before submission"
   ]
  },
  {
   "cell_type": "code",
   "execution_count": null,
   "id": "bibliographic-hello",
   "metadata": {},
   "outputs": [],
   "source": [
    "import scanpy as sc\n",
    "import pandas as pd\n",
    "import numpy as np\n",
    "import matplotlib.pyplot as plt\n",
    "import seaborn as sns; sns.set(color_codes=True)\n",
    "from pathlib import Path\n",
    "\n",
    "sc.settings.verbosity = 3  # verbosity: errors (0), warnings (1), info (2), hints (3)\n",
    "sc.settings.set_figure_params(dpi=300, dpi_save=300, color_map='viridis')"
   ]
  },
  {
   "cell_type": "code",
   "execution_count": null,
   "id": "twelve-unemployment",
   "metadata": {},
   "outputs": [],
   "source": [
    "adata = sc.read(\"/home/jovyan/YS_project/YS/Data_objects/final_objects/A4_V7_YS_integrated_data_singlets_with_raw_counts_for_MS_plotting_20211111_with_obsp.h5ad\")"
   ]
  },
  {
   "cell_type": "code",
   "execution_count": null,
   "id": "matched-supervision",
   "metadata": {},
   "outputs": [],
   "source": [
    "updated_metadata = pd.read_csv('/nfs/team298/ar32/YS/YS_liver_comparison/metadata_A4_V8_YS_integrated_data_singlets_normalised_counts_for_MS_plotting_20220328_with_obsp.csv', index_col=0)"
   ]
  },
  {
   "cell_type": "code",
   "execution_count": null,
   "id": "colored-polymer",
   "metadata": {},
   "outputs": [],
   "source": [
    "list(adata.obs.index[adata.obs.index.isin(adata.obs.index)]) == list(updated_metadata.index)"
   ]
  },
  {
   "cell_type": "code",
   "execution_count": null,
   "id": "julian-productivity",
   "metadata": {},
   "outputs": [],
   "source": [
    "adata.obs = updated_metadata"
   ]
  },
  {
   "cell_type": "code",
   "execution_count": null,
   "id": "outer-austin",
   "metadata": {},
   "outputs": [],
   "source": [
    "adata.obs"
   ]
  },
  {
   "cell_type": "code",
   "execution_count": null,
   "id": "competitive-seeker",
   "metadata": {},
   "outputs": [],
   "source": [
    "adata.obs['fetal.ids'].value_counts()"
   ]
  },
  {
   "cell_type": "code",
   "execution_count": null,
   "id": "massive-smoke",
   "metadata": {},
   "outputs": [],
   "source": [
    "adata.obs.groupby(['orig.dataset','fetal.ids']).apply(len)"
   ]
  },
  {
   "cell_type": "code",
   "execution_count": null,
   "id": "affected-graham",
   "metadata": {},
   "outputs": [],
   "source": [
    "adata.obs['orig.dataset_updated'] = adata.obs['orig.dataset'].astype(str)\n",
    "adata.obs.loc[adata.obs['fetal.ids'].isin(['F61']), 'orig.dataset_updated'] = 'Suo_et_al_BioRxiv_2022'\n",
    "adata.obs.groupby(['orig.dataset_updated','fetal.ids']).apply(len)"
   ]
  },
  {
   "cell_type": "code",
   "execution_count": null,
   "id": "architectural-cocktail",
   "metadata": {},
   "outputs": [],
   "source": [
    "adata.obs[\"orig.dataset_updated\"] = adata.obs[\"orig.dataset_updated\"].cat.reorder_categories([\n",
    "'Popescu_et_al_Nature_2019','Wang_et_al_Cell_Stem Cell_2021', 'De_novo', 'Suo_et_al_BioRxiv_2022'\n",
    "])"
   ]
  },
  {
   "cell_type": "code",
   "execution_count": null,
   "id": "enabling-pledge",
   "metadata": {},
   "outputs": [],
   "source": [
    "adata.obs[\"num\"] = adata.obs[\"num\"].cat.reorder_categories([3,0,1,2])"
   ]
  },
  {
   "cell_type": "code",
   "execution_count": null,
   "id": "warming-horizontal",
   "metadata": {},
   "outputs": [],
   "source": [
    "adata.obs[\"num\"] = adata.obs[\"num\"].cat.reorder_categories(['Popescu_et_al_Nature_2019','Wang_et_al_Cell_Stem Cell_2021', 'De_novo', 'Suo_et_al_BioRxiv_2022'])"
   ]
  },
  {
   "cell_type": "code",
   "execution_count": null,
   "id": "fossil-abortion",
   "metadata": {},
   "outputs": [],
   "source": [
    "var = \"orig.dataset_updated\"\n",
    "#Create color dictionary\n",
    "cells = ['Popescu_et_al_Nature_2019','Wang_et_al_Cell_Stem Cell_2021', 'De_novo', 'Suo_et_al_BioRxiv_2022',]\n",
    "col = list(range(0, len(adata.obs[var].unique())))\n",
    "#col = adata.uns['cell.labels_colors']\n",
    "dic = dict(zip(cells,col))\n",
    "#Create a mappable field\n",
    "adata.obs['num'] = adata.obs[var]\n",
    "#map to adata.obs.col to create a caterorical column\n",
    "adata.obs['num'] = adata.obs['num'].map(dic)\n",
    "##Map to a pallete to use with umap\n",
    "#cells_list = pd.DataFrame(adata.obs[\"cell.labels\"].cat.categories)\n",
    "#cells_list['col'] = cells_list[0].map(dic)\n",
    "#col_pal = list(cells_list['col'])\n",
    "adata.obs['num'] = adata.obs['num'].astype(str)\n",
    "adata.obs[var+'_num'] = adata.obs['num'].astype(str) + \" : \" + adata.obs[var].astype(str)\n",
    "col_pal = [\"#AA0612\",\"#252D54\",\"#9B8FBE\", \"#F4B973\"] \n",
    "\n",
    "adata.obs['num'] = adata.obs['num'].astype('category')\n",
    "adata.obs['num'] = adata.obs['num'].cat.reorder_categories(['3','0','1','2'])\n",
    "adata.obs['num'] = adata.obs['num'].astype(str)\n",
    "\n",
    "import matplotlib\n",
    "matplotlib.rcdefaults() #Reset matplot lb deafults as seaborne tends to mess with this\n",
    "fig, (ax1, ax2,) = plt.subplots(1,2, figsize=(10,10), gridspec_kw={'wspace':0,'width_ratios': [1,0]})\n",
    "p2 = sc.pl.umap(adata, color = (var+'_num') ,ax=ax2,show=False,title=\"\", palette= col_pal) #title=i\n",
    "p3 = sc.pl.umap(adata, color = \"num\",legend_loc=None,size=5,legend_fontsize='small',ax=ax1,show=False, palette= col_pal, title=var, groups=['3','0','1','2']) #title=i\n",
    "fig.savefig(\"./figures/ext1a_umap_20220407.pdf\",bbox_inches='tight')"
   ]
  },
  {
   "cell_type": "code",
   "execution_count": null,
   "id": "widespread-listening",
   "metadata": {},
   "outputs": [],
   "source": []
  },
  {
   "cell_type": "code",
   "execution_count": null,
   "id": "indie-banks",
   "metadata": {},
   "outputs": [],
   "source": []
  },
  {
   "cell_type": "code",
   "execution_count": null,
   "id": "neural-kentucky",
   "metadata": {},
   "outputs": [],
   "source": []
  },
  {
   "cell_type": "code",
   "execution_count": null,
   "id": "duplicate-litigation",
   "metadata": {},
   "outputs": [],
   "source": []
  },
  {
   "cell_type": "code",
   "execution_count": null,
   "id": "authorized-relay",
   "metadata": {},
   "outputs": [],
   "source": []
  },
  {
   "cell_type": "code",
   "execution_count": null,
   "id": "continuous-scout",
   "metadata": {},
   "outputs": [],
   "source": []
  },
  {
   "cell_type": "code",
   "execution_count": null,
   "id": "disabled-subdivision",
   "metadata": {},
   "outputs": [],
   "source": []
  },
  {
   "cell_type": "code",
   "execution_count": null,
   "id": "later-going",
   "metadata": {},
   "outputs": [],
   "source": []
  },
  {
   "cell_type": "code",
   "execution_count": null,
   "id": "muslim-contractor",
   "metadata": {},
   "outputs": [],
   "source": [
    "celltypes = ['Contents', 'VA', 'Membrane']\n",
    "adata.obs['component'] = adata.obs['component'].cat.reorder_categories(celltypes)\n",
    "\n",
    "#create numpy array for colours for each celltype to use\n",
    "new_colors = np.empty(len(adata.obs[\"component\"].cat.categories), dtype=object) \n",
    "\n",
    "#assign the colours for each category - will be in the same order as plotted so if wwant to reorder do before this stage as colour positions won't move\n",
    "new_colors[[0]] = '#85050d' # Contents\n",
    "new_colors[[1]] = '#f5232f' # VA\n",
    "new_colors[[2]] = '#F4B973' # Membrane\n",
    "\n",
    "#save colour assigned numpy array in uns\n",
    "adata.uns[\"component_colors\"] = new_colors # remember to keep '_colors' at the end of the column of plotting interest!\n",
    "sc.settings.set_figure_params(dpi=300)\n",
    "sc.pl.umap(adata, color='component', size=2)"
   ]
  },
  {
   "cell_type": "code",
   "execution_count": null,
   "id": "equal-dance",
   "metadata": {},
   "outputs": [],
   "source": [
    "adata.obs[\"component\"].value_counts()"
   ]
  },
  {
   "cell_type": "code",
   "execution_count": null,
   "id": "cubic-guinea",
   "metadata": {},
   "outputs": [],
   "source": [
    "new_colors[[0]] = '#85050d' # Contents\n",
    "new_colors[[1]] = '#f5232f' # VA\n",
    "new_colors[[2]] = '#F4B973' # Membrane"
   ]
  },
  {
   "cell_type": "code",
   "execution_count": null,
   "id": "major-trunk",
   "metadata": {},
   "outputs": [],
   "source": [
    "var = \"component\"\n",
    "#Create color dictionary\n",
    "cells = ['Contents', 'VA', 'Membrane',]\n",
    "col = list(range(0, len(adata.obs[var].unique())))\n",
    "#col = adata.uns['cell.labels_colors']\n",
    "dic = dict(zip(cells,col))\n",
    "#Create a mappable field\n",
    "adata.obs['num'] = adata.obs[var]\n",
    "#map to adata.obs.col to create a caterorical column\n",
    "adata.obs['num'] = adata.obs['num'].map(dic)\n",
    "##Map to a pallete to use with umap\n",
    "#cells_list = pd.DataFrame(adata.obs[\"cell.labels\"].cat.categories)\n",
    "#cells_list['col'] = cells_list[0].map(dic)\n",
    "#col_pal = list(cells_list['col'])\n",
    "adata.obs['num'] = adata.obs['num'].astype(str)\n",
    "adata.obs[var+'_num'] = adata.obs['num'].astype(str) + \" : \" + adata.obs[var].astype(str)\n",
    "col_pal = ['#85050d','#f5232f','#F4B973'] \n",
    "\n",
    "adata.obs['num'] = adata.obs['num'].astype('category')\n",
    "adata.obs['num'] = adata.obs['num'].cat.reorder_categories(['0','1','2'])\n",
    "adata.obs['num'] = adata.obs['num'].astype(str)\n",
    "\n",
    "import matplotlib\n",
    "matplotlib.rcdefaults() #Reset matplot lb deafults as seaborne tends to mess with this\n",
    "fig, (ax1, ax2,) = plt.subplots(1,2, figsize=(10,10), gridspec_kw={'wspace':0,'width_ratios': [1,0]})\n",
    "p2 = sc.pl.umap(adata, color = (var+'_num') ,ax=ax2,show=False,title=\"\", palette= col_pal) #title=i\n",
    "p3 = sc.pl.umap(adata, color = \"num\",legend_loc=None,size=5,legend_fontsize='small',ax=ax1,show=False, palette= col_pal, title=var, groups=['3','0','1','2']) #title=i\n",
    "fig.savefig(\"./figures/ext1b_umap_20220407.pdf\",bbox_inches='tight')"
   ]
  },
  {
   "cell_type": "code",
   "execution_count": null,
   "id": "third-fruit",
   "metadata": {},
   "outputs": [],
   "source": []
  }
 ],
 "metadata": {
  "kernelspec": {
   "display_name": "Python_env_Hlab",
   "language": "python",
   "name": "python_env_hlab"
  },
  "language_info": {
   "codemirror_mode": {
    "name": "ipython",
    "version": 3
   },
   "file_extension": ".py",
   "mimetype": "text/x-python",
   "name": "python",
   "nbconvert_exporter": "python",
   "pygments_lexer": "ipython3",
   "version": "3.9.4"
  }
 },
 "nbformat": 4,
 "nbformat_minor": 5
}
