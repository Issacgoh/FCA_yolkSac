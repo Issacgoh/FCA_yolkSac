{
 "cells": [
  {
   "cell_type": "markdown",
   "id": "brief-taxation",
   "metadata": {},
   "source": [
    "# Figure 1d"
   ]
  },
  {
   "cell_type": "markdown",
   "id": "certain-breed",
   "metadata": {},
   "source": [
    "## RNA dotplot"
   ]
  },
  {
   "cell_type": "code",
   "execution_count": null,
   "id": "opening-anime",
   "metadata": {},
   "outputs": [],
   "source": [
    "import os\n",
    "import sys\n",
    "%matplotlib inline\n",
    "import scanpy as sc\n",
    "import pandas as pd\n",
    "import numpy as np\n",
    "import matplotlib.pyplot as plt\n",
    "from pathlib import Path\n",
    "import datetime\n",
    "\n",
    "sc.settings.verbosity = 3  # verbosity: errors (0), warnings (1), info (2), hints (3)\n",
    "sc.settings.set_figure_params(dpi=300, dpi_save=300)"
   ]
  },
  {
   "cell_type": "code",
   "execution_count": null,
   "id": "measured-bargain",
   "metadata": {},
   "outputs": [],
   "source": [
    "adata = sc.read('/home/jovyan/YS_project/YS/Data_objects/final_objects/A4_V7_YS_integrated_data_singlets_with_raw_counts_for_MS_plotting_20211111_with_obsp.h5ad')"
   ]
  },
  {
   "cell_type": "code",
   "execution_count": null,
   "id": "grave-occupation",
   "metadata": {},
   "outputs": [],
   "source": [
    "# normalise count data\n",
    "sc.pp.normalize_total(adata)\n",
    "# log the count data\n",
    "sc.pp.log1p(adata)\n",
    "# scale the data\n",
    "sc.pp.scale(adata, max_value=10)"
   ]
  },
  {
   "cell_type": "code",
   "execution_count": null,
   "id": "welcome-applicant",
   "metadata": {},
   "outputs": [],
   "source": [
    "adata.obs[\"broad_cell.labels\"] = adata.obs[\"broad_cell.labels\"].cat.reorder_categories([\n",
    "'Progenitors',\n",
    "'Lymphoid',\n",
    "'DC',\n",
    "'Monocyte',\n",
    "'Macrophage',\n",
    "'Microglia',\n",
    "'Granulocyte_precursors',\n",
    "'Mast_cell',\n",
    "'MK',\n",
    "'Erythroid',\n",
    "'Endothelium',\n",
    "'Fibroblast',\n",
    "'Smooth_Muscle',\n",
    "'Mesothelium',\n",
    "'Endoderm'\n",
    "])\n",
    "\n",
    "gene_list1 = [\n",
    "'CD34',\n",
    "'SPINK2',\n",
    "'PRSS57',\n",
    "'CD7',\n",
    "'IL7R',\n",
    "'LTBR',\n",
    "'CLEC10A',\n",
    "'CD1C',\n",
    "'HLA-DRA',\n",
    "'LYZ',\n",
    "'FCGR3A',\n",
    "'CD4',\n",
    "'CD14',\n",
    "'C1QA',\n",
    "'TREM2',\n",
    "'CX3CR1',\n",
    "'P2RY12',\n",
    "'CLC',\n",
    "'MPO',\n",
    "'GATA2',\n",
    "'TPSAB1',\n",
    "'KIT',\n",
    "'ITGA2B',\n",
    "'ITGB3',\n",
    "'CLEC1B',\n",
    "'GYPA',\n",
    "'HBE1',\n",
    "'HBZ',\n",
    "'PECAM1',\n",
    "'IL33',\n",
    "'KDR',\n",
    "'PDGFRA',\n",
    "'THY1',\n",
    "'VCAN',\n",
    "'ACTA2',\n",
    "'ITGA1',\n",
    "'MCAM',\n",
    "'KRT19',\n",
    "'PDPN',\n",
    "'UPK3B',\n",
    "'EPCAM',\n",
    "'SPINK1',\n",
    "'ASGR1',\n",
    "'MKI67',\n",
    "'CDK1'\n",
    "]\n",
    "\n",
    "sc.pl.dotplot(adata, var_names=gene_list1, groupby='broad_cell.labels', use_raw=False, save='YS_main_fig1d_17032022.pdf')"
   ]
  },
  {
   "cell_type": "markdown",
   "id": "offshore-vegetation",
   "metadata": {},
   "source": [
    "## Protein dotplot"
   ]
  },
  {
   "cell_type": "code",
   "execution_count": null,
   "id": "hungry-requirement",
   "metadata": {},
   "outputs": [],
   "source": [
    "import os\n",
    "import sys\n",
    "%matplotlib inline\n",
    "import scanpy as sc\n",
    "import pandas as pd\n",
    "import numpy as np\n",
    "import matplotlib.pyplot as plt\n",
    "from pathlib import Path\n",
    "import datetime\n",
    "\n",
    "sc.settings.verbosity = 3  # verbosity: errors (0), warnings (1), info (2), hints (3)\n",
    "sc.settings.set_figure_params(dpi=300, dpi_save=300)"
   ]
  },
  {
   "cell_type": "code",
   "execution_count": null,
   "id": "peaceful-latin",
   "metadata": {},
   "outputs": [],
   "source": [
    "adata = sc.read('/home/jovyan/YS_project/YS_CiteSeq_final_script_templates/protein_pipeline_19112021/Cite_seq_protein_processed_20220331.h5ad')"
   ]
  },
  {
   "cell_type": "code",
   "execution_count": null,
   "id": "bound-commission",
   "metadata": {},
   "outputs": [],
   "source": [
    "gene_list1 = [\n",
    "'CD34',\n",
    "'CD7',\n",
    "'CD127',\n",
    "'LT_bR',\n",
    "'CD301',\n",
    "'CD1c',\n",
    "'HLA_DR',\n",
    "'CD16',\n",
    "'CD4',\n",
    "'CD14',\n",
    "'CD117',\n",
    "'CD41',\n",
    "'CD61',\n",
    "'CLEC1B',\n",
    "'CD235a',\n",
    "'CD31',\n",
    "'CD309',\n",
    "'CD90',\n",
    "'CD49a',\n",
    "'CD146',\n",
    "'CD326'\n",
    "]\n",
    "\n",
    "sc.pl.dotplot(adata, var_names=gene_list1, groupby='broad_anno', use_raw=False, cmap='Blues', save='CiteSeq_fig1d_equivalent_protein_20220331.pdf')"
   ]
  }
 ],
 "metadata": {
  "kernelspec": {
   "display_name": "Python_env_Hlab",
   "language": "python",
   "name": "python_env_hlab"
  },
  "language_info": {
   "codemirror_mode": {
    "name": "ipython",
    "version": 3
   },
   "file_extension": ".py",
   "mimetype": "text/x-python",
   "name": "python",
   "nbconvert_exporter": "python",
   "pygments_lexer": "ipython3",
   "version": "3.9.4"
  }
 },
 "nbformat": 4,
 "nbformat_minor": 5
}
