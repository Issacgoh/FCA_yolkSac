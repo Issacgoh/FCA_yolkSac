{
 "cells": [
  {
   "cell_type": "code",
   "execution_count": null,
   "id": "sharing-romania",
   "metadata": {},
   "outputs": [],
   "source": [
    "import scanpy as sc\n",
    "import pandas as pd\n",
    "import numpy as np\n",
    "import matplotlib.pyplot as plt\n",
    "import seaborn as sns; sns.set(color_codes=True)\n",
    "\n",
    "sc.settings.verbosity = 3  # verbosity: errors (0), warnings (1), info (2), hints (3)\n",
    "sc.settings.set_figure_params(dpi=80, dpi_save=300, color_map='viridis')"
   ]
  },
  {
   "cell_type": "code",
   "execution_count": null,
   "id": "nonprofit-heath",
   "metadata": {},
   "outputs": [],
   "source": [
    "data1 = sc.read('/home/jovyan/YS_project/YS/Data_objects/YS_object_14092021/Combined_YS_Fliver_20210929.h5ad')\n",
    "data2 = sc.read('/home/jovyan/wgeted_files/gastrulation.h5ad')\n",
    "liver_rest = sc.read('/home/jovyan/mount_farm/nfs/team298/ar32/YS/All_fetal_liver_data/A5_fetal_liver_alladata_updated_annots_210721.h5ad')\n",
    "liver_adult = sc.read('/home/jovyan/mount_farm/nfs/team298/ar32/YS/adult_liver/data_set1_sharma_not_raw/Liver_raw_20220303.h5ad')"
   ]
  },
  {
   "cell_type": "code",
   "execution_count": null,
   "id": "eastern-baseline",
   "metadata": {},
   "outputs": [],
   "source": [
    "data1.obs['celltypes_for_dotplot'] = data1.obs['broad_cell_labels_organ']\n",
    "data2.obs['celltypes_for_dotplot'] = data2.obs['corr_concat']\n",
    "\n",
    "adata_list = [data1,data2]\n",
    "adata = sc.AnnData.concatenate(*adata_list, join='inner', batch_categories=None ,index_unique=None)\n",
    "\n",
    "cells_to_keep = ['Endoderm_ys','Fibroblast_ys','Smooth_Muscle_ys','Mesothelium_ys','Hepatocyte_fliv','Fibroblast_fliv','YS Endoderm_Yolk Sac_gastrulation']\n",
    "adata_keep = adata[adata.obs['celltypes_for_dotplot'].isin(cells_to_keep)]\n",
    "adata = adata_3a[:]"
   ]
  },
  {
   "cell_type": "code",
   "execution_count": null,
   "id": "breeding-sudan",
   "metadata": {},
   "outputs": [],
   "source": [
    "liver_rest = liver_rest[~liver_rest.obs['orig.ident'].isin(['F61', 'F35', 'F32'])] # remove any cells under 'F61', 'F35', 'F32' as in combined YS_EL object\n",
    "liver_rest = liver_rest[liver_rest.obs['cell.labels'].isin(['Hepatocyte'])] #,'Fibroblast'\n",
    "liver_rest.obs['celltypes_for_dotplot'] = liver_rest.obs['cell.labels'].astype(str) + '_liver_not_matched'\n",
    "\n",
    "adata_list = [adata,liver_rest]\n",
    "adata = sc.AnnData.concatenate(*adata_list, join='inner', batch_categories=None ,index_unique=None)"
   ]
  },
  {
   "cell_type": "code",
   "execution_count": null,
   "id": "civil-franchise",
   "metadata": {},
   "outputs": [],
   "source": [
    "liver_adult = liver_adult[liver_adult.obs['NormalvsTumor'].isin(['Normal'])]\n",
    "liver_adult"
   ]
  },
  {
   "cell_type": "code",
   "execution_count": null,
   "id": "three-gravity",
   "metadata": {},
   "outputs": [],
   "source": [
    "sc.pp.normalize_total(adata)\n",
    "sc.pp.log1p(adata)\n",
    "sc.pp.scale(adata, max_value = 10)\n",
    "\n",
    "sc.pp.normalize_total(liver_adult)\n",
    "sc.pp.log1p(liver_adult)\n",
    "sc.pp.scale(liver_adult, max_value = 10)"
   ]
  },
  {
   "cell_type": "code",
   "execution_count": null,
   "id": "parental-luxury",
   "metadata": {},
   "outputs": [],
   "source": [
    "liver_adult = liver_adult[liver_adult.obs['HCCF1F2_anno'].isin(['Hepatocytes'])]\n",
    "liver_adult.obs['celltypes_for_dotplot'] = liver_adult.obs['HCCF1F2_anno'].astype(str) + '_adult'\n",
    "\n",
    "adata_list = [adata,liver_adult]\n",
    "adata = sc.AnnData.concatenate(*adata_list, join='inner', batch_categories=None ,index_unique=None)"
   ]
  },
  {
   "cell_type": "code",
   "execution_count": null,
   "id": "ethical-pixel",
   "metadata": {},
   "outputs": [],
   "source": [
    "gene_list_plot = [\n",
    "'SERPINA1',\n",
    "'APOA2',\n",
    "'APOC3',\n",
    "'SPINK1',\n",
    "'AHSG',\n",
    "'AFP',\n",
    "'APOA1',\n",
    "'ALB',\n",
    "'TTR',\n",
    "'FGB',\n",
    "'LUM',\n",
    "'FRZB',\n",
    "'COL3A1',\n",
    "'SPARC',\n",
    "'COL6A2',\n",
    "'PTN',\n",
    "'COL1A1',\n",
    "'VIM',\n",
    "'TPM1',\n",
    "'CXCL12',\n",
    "'CSRP2',\n",
    "'CTHRC1',\n",
    "'TPM2',\n",
    "'CALD1',\n",
    "'ACTA2',\n",
    "'KRT19',\n",
    "'S100A10',\n",
    "'KRT8',\n",
    "'TMEM98',\n",
    "'PDPN',\n",
    "'UPK3B'\n",
    "]\n",
    "\n",
    "adata.obs['celltypes_for_dotplot'] = adata.obs['celltypes_for_dotplot'].astype('category')\n",
    "adata.obs['celltypes_for_dotplot'] = adata.obs['celltypes_for_dotplot'].cat.reorder_categories(['Endoderm_ys','YS Endoderm_Yolk Sac_gastrulation','Hepatocyte_fliv','Hepatocyte_liver_not_matched','Hepatocytes_adult','Fibroblast_ys','Fibroblast_fliv','Smooth_Muscle_ys','Mesothelium_ys'])\n",
    "\n",
    "sc.pl.dotplot(adata, groupby= 'celltypes_for_dotplot', var_names=gene_list_plot, use_raw=False, swap_axes=False, figsize=(10,5), save = 'fig4a_with_adult_20220310.pdf')"
   ]
  },
  {
   "cell_type": "code",
   "execution_count": null,
   "id": "warming-radical",
   "metadata": {},
   "outputs": [],
   "source": []
  },
  {
   "cell_type": "code",
   "execution_count": null,
   "id": "terminal-thompson",
   "metadata": {},
   "outputs": [],
   "source": []
  }
 ],
 "metadata": {
  "kernelspec": {
   "display_name": "Python_env_Hlab",
   "language": "python",
   "name": "python_env_hlab"
  },
  "language_info": {
   "codemirror_mode": {
    "name": "ipython",
    "version": 3
   },
   "file_extension": ".py",
   "mimetype": "text/x-python",
   "name": "python",
   "nbconvert_exporter": "python",
   "pygments_lexer": "ipython3",
   "version": "3.9.4"
  }
 },
 "nbformat": 4,
 "nbformat_minor": 5
}
