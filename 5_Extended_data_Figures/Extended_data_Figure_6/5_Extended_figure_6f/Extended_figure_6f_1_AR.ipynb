{
 "cells": [
  {
   "cell_type": "markdown",
   "id": "unusual-triple",
   "metadata": {},
   "source": [
    "# Extended figure 6f part 1"
   ]
  },
  {
   "cell_type": "code",
   "execution_count": null,
   "id": "social-apartment",
   "metadata": {
    "tags": []
   },
   "outputs": [],
   "source": [
    "import sys\n",
    "import subprocess\n",
    "\n",
    "#import pkg_resources\n",
    "#required = {'harmonypy','sklearn','scanpy','pandas', 'numpy', 'bbknn', 'scipy', 'matplotlib', 'seaborn' ,'scipy'}\n",
    "#installed = {pkg.key for pkg in pkg_resources.working_set}\n",
    "#missing = required - installed\n",
    "#if missing:\n",
    "#    print(\"Installing missing packages:\" )\n",
    "#    print(missing)\n",
    "#    python = sys.executable\n",
    "#    subprocess.check_call([python, '-m', 'pip', 'install', *missing], stdout=subprocess.DEVNULL)\n",
    "\n",
    "%matplotlib inline\n",
    "from collections import Counter\n",
    "from collections import defaultdict\n",
    "import scanpy as sc\n",
    "import pandas as pd\n",
    "import pickle as pkl\n",
    "import numpy as np\n",
    "from bbknn import bbknn\n",
    "import scipy\n",
    "import matplotlib.pyplot as plt\n",
    "import re\n",
    "import glob\n",
    "import os\n",
    "import sys\n",
    "from geosketch import gs\n",
    "from numpy import cov\n",
    "import scipy.cluster.hierarchy as spc\n",
    "import seaborn as sns; sns.set(color_codes=True)\n",
    "from sklearn.linear_model import LogisticRegression\n",
    "import sklearn\n",
    "import harmonypy as hm\n",
    "from pathlib import Path\n",
    "\n",
    "sc.settings.verbosity = 3  # verbosity: errors (0), warnings (1), info (2), hints (3)\n",
    "sc.settings.set_figure_params(dpi=80, color_map='viridis')"
   ]
  },
  {
   "cell_type": "markdown",
   "id": "naval-liver",
   "metadata": {},
   "source": [
    "# LR script"
   ]
  },
  {
   "cell_type": "markdown",
   "id": "dense-lover",
   "metadata": {},
   "source": [
    "# Only block to edit in LR script"
   ]
  },
  {
   "cell_type": "code",
   "execution_count": null,
   "id": "personalized-somerset",
   "metadata": {
    "tags": []
   },
   "outputs": [],
   "source": [
    "# Introduce variables\n",
    "# Note that this script expects raw data to be in \"non-batch-corrected\" adata.raw.X. \n",
    "\n",
    "# Required: Introduce the path you'd like to save figures or data to \n",
    "save_path = \"/home/jovyan/mount_farm/nfs/team298/ar32/YS/brain_objects/kriegstein/Cellbender_from_Jimmy/cellbender_from_jimmy/training_on_all_brain_cellbender_with_model_already_made/LR_indiv/LR_indiv_outs/\"\n",
    "\n",
    "# Required: Name of second object\n",
    "data1 = \"_training\"\n",
    "data1_identifier = \"YS\"\n",
    "# Provide path to obj2 // prediction/projection data\n",
    "Object1 = \"/home/jovyan/YS_project/YS/Data_objects/final_objects/A4_V7_YS_integrated_data_singlets_with_raw_counts_for_MS_plotting_20211111_with_obsp.h5ad\"\n",
    "# Provide categorical to join between datasets\n",
    "#cat1 = \"celltypes_for_comparison\"\n",
    "\n",
    "# Required: Name of second object\n",
    "data2 = \"brain_cellbender\"\n",
    "# Provide path to obj2 // prediction/projection data\n",
    "Object2 = \"/nfs/team298/ar32/YS/brain_objects/kriegstein/Cellbender_from_Jimmy/processed_object_20220329/raw_basic_batch_brain_cellbender_20220329.h5ad\"\n",
    "# Provide categorical to join between datasets\n",
    "#cat2 = \"leiden_res1\"\n",
    "\n",
    "\n",
    "# Required: LR Model Options\n",
    "penalty='elasticnet' # can be [\"l1\",\"l2\",\"elasticnet\"]\n",
    "sparcity=0.2\n",
    "max_iter = 1000 #Increase if experiencing max iter issues\n",
    "l1_ratio = 0.5 #If using elasticnet, tis controls the ratio between l1 and l2\n",
    "\n",
    "# Optional: Batch correction options (this is for correction of eventual combined dataset for data1 and data2)\n",
    "# If you do not have a batch variable for either data1 or data2, please add a \"filler\" column in the relevent adata.obs\n",
    "# for the purposes of batch_correction and batch args below.\n",
    "# e.g., adata.obs[\"whatever\"] = \"something\"; batch=\"whatever\"\n",
    "batch_correction = \"Harmony\" # Will accept Harmony, BBKNN or False as options\n",
    "#batch = [\"fetal.ids\", \"orig.ident\"] # Will accept any batch categorical. Comma space a batch categorical for each dataset. Position 1 is for data1, position 2 is for data2\n",
    "\n",
    "# Optional: miscellaneous Options.   \n",
    "subsample_train = True # Samples the training data to the smallest fraction (highly dependent on resolution of input celltype categorical). This corrects for proportional differences between celltype labels of interest in the training data. E.g., training data has 50,000 B cells, 20,000 T cells and 100 HSCs. This function will subsample all training to 100 cells per cell type. \n",
    "subsample_prop = 0.2 # Give this option a proprtion to subsample to(e.g 0.2), if NA given, will subsample to smallest population\n",
    "subsample_predict = False\n",
    "subsample_prop_predict = 0.5\n",
    "remove_non_high_var = False\n",
    "\n",
    "train_x = 'X' # Define the resource to train and predict on, PCA, X or UMAP (#if you wish to use gene expression, train_x = 'X')\n",
    "remove_effect_of_custom_gene_list = '' # \"./cell_cycle_genes.csv\" #remove a custom list of genes from just the variable genes to compute PCA from. Your .csv should have HGNC gene names in the first column to be read in as a vector, any column name is fine.\n",
    "use_raw = True # Do you want to use adata.raw.X (recommended)"
   ]
  },
  {
   "cell_type": "markdown",
   "id": "broken-fields",
   "metadata": {
    "tags": []
   },
   "source": [
    "# Rest of LR script"
   ]
  },
  {
   "cell_type": "markdown",
   "id": "cooked-stretch",
   "metadata": {},
   "source": [
    "## Combining data and Preprocess"
   ]
  },
  {
   "cell_type": "code",
   "execution_count": null,
   "id": "employed-bottle",
   "metadata": {},
   "outputs": [],
   "source": [
    "# Check if filepaths are good\n",
    "if not os.path.exists(save_path):\n",
    "    os.makedirs(save_path)\n",
    "    \n",
    "if (Path(Object1).is_file() & Path(Object2).is_file()):\n",
    "    print(\"adata file paths detetcted, proceeding to load\")\n",
    "    adata = sc.read(Object1)\n",
    "    adata2 = sc.read(Object2)\n",
    "    del adata.uns\n",
    "    del adata2.uns\n",
    "else: \n",
    "    raise TypeError(\"one or more .h5ad paths cannot be accessed\")\n",
    "\n",
    "# altering scanpy setting so that we can save it to our defined directory\n",
    "sc._settings.ScanpyConfig(figdir=save_path)\n",
    "\n",
    "# Combine and pre-process data to match correlations across PCA\n",
    "\n",
    "# Module to detect shape mismatch and alternatively rebuild adata\n",
    "if(use_raw==True):\n",
    "    print('option detected to use raw data, proceeding to check if raw exists and if it matches data.X')\n",
    "    if (hasattr(adata.raw, \"X\")):\n",
    "        try: adata.X =  adata.raw.X  ; print('no mismatch in shape for adata detected')\n",
    "        except: print(\"adata.X shape mismatched with adata.raw.X, proceeding to re-build data\") ; adata = adata.raw.to_adata()\n",
    "    else:\n",
    "        print(\"no raw data detected in adata! proceeding to create raw partition from adata.X\")\n",
    "        adata.raw = adata\n",
    "        \n",
    "    if (hasattr(adata2.raw, \"X\")):\n",
    "        try: adata2.X = adata2.raw.X ; print('no mismatch in shape for adata2 detected')\n",
    "        except: print(\"adata2.X shape mismatched with adata.raw.X, proceeding to re-build data\") ; adata2 = adata2.raw.to_adata()\n",
    "    else:\n",
    "        print(\"no raw data detected in adata! proceeding to create raw partition from adata.X\")\n",
    "        adata2.raw = adata2\n",
    "        \n",
    "    \n",
    "# Define intersecting genes between datasets\n",
    "adata_genes = list(adata.var.index)\n",
    "adata2_genes = list(adata2.var.index)\n",
    "keep_SC_genes = list(set(adata_genes) & set(adata2_genes))\n",
    "print(\"keep gene list = \" , len(keep_SC_genes), \"adata1 gene length = \", len(adata_genes) , \"adata2 gene length = \", len(adata2_genes) )\n",
    "\n",
    "# Remove non-intersecting genes (this step will remove cite-seq data if training data is pure RNA seq)\n",
    "adata_intersect1 = adata[:, keep_SC_genes]\n",
    "adata = adata_intersect1\n",
    "adata_intersect2 = adata2[:, keep_SC_genes]\n",
    "adata2 = adata_intersect2"
   ]
  },
  {
   "cell_type": "code",
   "execution_count": null,
   "id": "intimate-opposition",
   "metadata": {},
   "outputs": [],
   "source": [
    "del adata.obsm\n",
    "del adata2.obsm"
   ]
  },
  {
   "cell_type": "code",
   "execution_count": null,
   "id": "communist-plumbing",
   "metadata": {},
   "outputs": [],
   "source": [
    "adata"
   ]
  },
  {
   "cell_type": "code",
   "execution_count": null,
   "id": "talented-relations",
   "metadata": {},
   "outputs": [],
   "source": [
    "adata2"
   ]
  },
  {
   "cell_type": "code",
   "execution_count": null,
   "id": "finnish-austria",
   "metadata": {},
   "outputs": [],
   "source": [
    "adata.obs['Dataset'] = adata.obs['fetal.ids']\n",
    "adata2.obs['Dataset'] = adata2.obs['Object_orig']"
   ]
  },
  {
   "cell_type": "code",
   "execution_count": null,
   "id": "hollywood-stuff",
   "metadata": {},
   "outputs": [],
   "source": [
    "batch = [\"Dataset\", \"Dataset\"]"
   ]
  },
  {
   "cell_type": "code",
   "execution_count": null,
   "id": "excess-elephant",
   "metadata": {},
   "outputs": [],
   "source": [
    "adata.obs"
   ]
  },
  {
   "cell_type": "code",
   "execution_count": null,
   "id": "auburn-nature",
   "metadata": {},
   "outputs": [],
   "source": [
    "adata2.var[adata2.var_names.str.contains('P2RY')]"
   ]
  },
  {
   "cell_type": "markdown",
   "id": "continent-arthritis",
   "metadata": {},
   "source": [
    "# gene of interest is in data!!"
   ]
  },
  {
   "cell_type": "code",
   "execution_count": null,
   "id": "familiar-coach",
   "metadata": {},
   "outputs": [],
   "source": [
    "adata.obs['cell.labels'].value_counts()"
   ]
  },
  {
   "cell_type": "code",
   "execution_count": null,
   "id": "final-scottish",
   "metadata": {},
   "outputs": [],
   "source": [
    "cat1 = 'cell.labels'   # since only care about macrophage and microglia using broad \n",
    "cat2 = 'leiden_res1.5'"
   ]
  },
  {
   "cell_type": "code",
   "execution_count": null,
   "id": "important-validity",
   "metadata": {},
   "outputs": [],
   "source": []
  },
  {
   "cell_type": "code",
   "execution_count": null,
   "id": "bizarre-christmas",
   "metadata": {},
   "outputs": [],
   "source": []
  },
  {
   "cell_type": "code",
   "execution_count": null,
   "id": "thermal-notebook",
   "metadata": {},
   "outputs": [],
   "source": [
    "%%time\n",
    "\n",
    "\n",
    "# Optional subsampling of training data to \n",
    "if(subsample_train == True):\n",
    "    \n",
    "    if not(subsample_prop==\"NA\"):\n",
    "        print(\"option to subsample by proportion chosen\")\n",
    "        prop = subsample_prop\n",
    "        data = adata.obs[:]\n",
    "        grouped = data.groupby(cat1)\n",
    "        df = grouped.apply(lambda x: x.sample(frac=prop))\n",
    "        df = df.droplevel(cat1)\n",
    "        keep = df.index\n",
    "        adata = adata[adata.obs.index.isin(keep)]\n",
    "    else:\n",
    "        print(\"subsample by smallest population\")\n",
    "        data = adata.obs\n",
    "        data = data.sample(frac=1).groupby(cat1).head(min(adata.obs.groupby(cat1).size()))\n",
    "        keep = data.index\n",
    "        adata = adata[adata.obs.index.isin(keep)]\n",
    "        \n",
    "# Optional subsampling of training data to \n",
    "if(subsample_predict == True):\n",
    "    if not(subsample_prop_predict==\"NA\"):\n",
    "        print(\"option to subsample by proportion chosen\")\n",
    "        prop = subsample_prop_predict\n",
    "        data = adata2.obs[:]\n",
    "        grouped = data.groupby(cat2)\n",
    "        df = grouped.apply(lambda x: x.sample(frac=prop))\n",
    "        df = df.droplevel(cat2)\n",
    "        keep = df.index\n",
    "        adata2 = adata2[adata2.obs.index.isin(keep)]\n",
    "    else:\n",
    "        print(\"subsample by smallest population\")\n",
    "        data = adata2.obs\n",
    "        data = data.sample(frac=1).groupby(cat2).head(min(adata.obs.groupby(cat2).size()))\n",
    "        keep = data.index\n",
    "        adata2 = adata2[adata2.obs.index.isin(keep)]\n",
    "\n",
    "# Create a common batch column and do simple sanity check for batch variables\n",
    "if not((batch_correction == \"False\") and (len(batch)>1)):\n",
    "    print(\"Batch correction option detected, proceeding to format batch variables\")\n",
    "    batch_var = \"lr_batch\"\n",
    "    adata.obs[\"lr_batch\"] = adata.obs[batch[0]]\n",
    "    adata2.obs[\"lr_batch\"] = adata2.obs[batch[1]]\n",
    "else: raise TypeError(\"Batch correction option detected but requires at least one categorical for each dataset!\")\n",
    "\n",
    "# Create a common obs column in both datasets containing the data origin tag\n",
    "common_cat = \"corr_concat\" \n",
    "adata.obs[common_cat] = adata.obs[cat1].astype(str) + data1\n",
    "adata2.obs[common_cat] = adata2.obs[cat2].astype(str) + data2\n",
    "adata.obs = adata.obs.astype('category')\n",
    "adata2.obs = adata2.obs.astype('category')\n",
    "\n",
    "sc.pp.normalize_per_cell(adata, counts_per_cell_after=1e4)\n",
    "sc.pp.log1p(adata)\n",
    "\n",
    "sc.pp.log1p(adata2)\n",
    "\n",
    "concat = adata2.concatenate(adata, join='inner',index_unique=None, batch_categories=None)\n",
    "adata = concat[:]\n",
    "#sc.pp.normalize_per_cell(adata, counts_per_cell_after=1e4)\n",
    "#sc.pp.log1p(adata)\n",
    "sc.pp.highly_variable_genes(adata, min_mean=0.1, max_mean=4)\n",
    "#sc.pp.scale(adata, zero_center=False, max_value=None, copy=False) #zero_center=True (densifies output)\n",
    "\n",
    "# Optionally remove genes of known confounding effect from variable list\n",
    "if not (Path(remove_effect_of_custom_gene_list).is_file()):\n",
    "    print(\"Custom gene list option is not selected or path is not readbale, proceeding with no variable removal\")\n",
    "else: \n",
    "    print(\"Custom gene removal list detected, proceeding to remove intersect from variable genes\")\n",
    "    regress_list = pd.read_csv(remove_effect_of_custom_gene_list)\n",
    "    regress_list = regress_list.iloc[:, 0]\n",
    "    adata.var[\"highly_variable\"][adata.var.index.isin(regress_list)] = \"False\"\n",
    "\n",
    "#Optionally remove genes that do not contribute to variance in combined data::Use only if training and predicting withsim reduced data    \n",
    "if(remove_non_high_var==True):\n",
    "    high_var = list(adata.var[\"highly_variable\"][adata.var[\"highly_variable\"]==True])\n",
    "    adata = adata[:, adata.var[\"highly_variable\"].isin(high_var)]   \n",
    "\n",
    "# Now compute PCA\n",
    "sc.pp.pca(adata, n_comps=50, use_highly_variable=True, svd_solver='arpack')\n",
    "\n",
    "# Batch correction options\n",
    "# The script will test later which Harmony values we should use\n",
    "if not(batch_correction == \"False\"):\n",
    "    sc.pp.neighbors(adata, n_neighbors=15, n_pcs=50)    \n",
    "if(batch_correction == \"Harmony\"):\n",
    "    print(\"Commencing harmony\")\n",
    "    # Create hm subset\n",
    "    adata_hm = adata[:]\n",
    "    # Set harmony variables\n",
    "    data_mat = np.array(adata_hm.obsm[\"X_pca\"])\n",
    "    meta_data = adata_hm.obs\n",
    "    vars_use = [batch_var]\n",
    "    # Run Harmony\n",
    "    ho = hm.run_harmony(data_mat, meta_data, vars_use, theta=3)\n",
    "    res = (pd.DataFrame(ho.Z_corr)).T\n",
    "    res.columns = ['X{}'.format(i + 1) for i in range(res.shape[1])]\n",
    "    # Insert coordinates back into object\n",
    "    adata_hm.obsm[\"X_pca_back\"]= adata_hm.obsm[\"X_pca\"][:]\n",
    "    adata_hm.obsm[\"X_pca\"] = np.array(res)\n",
    "    # Run neighbours\n",
    "    sc.pp.neighbors(adata_hm, n_neighbors=15, n_pcs=50)\n",
    "    adata = adata_hm[:]\n",
    "    del adata_hm\n",
    "elif(batch_correction == \"BBKNN\"):\n",
    "    print(\"Commencing BBKNN\")\n",
    "    sc.external.pp.bbknn(adata, batch_key=batch_var, approx=True, metric='angular', copy=False, n_pcs=50, trim=None, n_trees=10, use_faiss=True, set_op_mix_ratio=1.0, local_connectivity=15) \n",
    "    \n",
    "print(\"adata1 and adata2 are now combined and preprocessed in 'adata' obj - success!\")"
   ]
  },
  {
   "cell_type": "code",
   "execution_count": null,
   "id": "engaging-tribute",
   "metadata": {},
   "outputs": [],
   "source": [
    "adata_save = adata[:]"
   ]
  },
  {
   "cell_type": "code",
   "execution_count": null,
   "id": "golden-intent",
   "metadata": {},
   "outputs": [],
   "source": [
    "sc.tl.umap(adata)"
   ]
  },
  {
   "cell_type": "code",
   "execution_count": null,
   "id": "conservative-windsor",
   "metadata": {},
   "outputs": [],
   "source": [
    "sc.pl.umap(adata, color='lr_batch')"
   ]
  },
  {
   "cell_type": "code",
   "execution_count": null,
   "id": "circular-bradley",
   "metadata": {},
   "outputs": [],
   "source": [
    "    # Define the separator category in the column of interest, this works by partial matches and enables a-symmetric \n",
    "    # comparisons\n",
    "    Data1_group = data1\n",
    "    Data2_group = data2\n",
    "    # Define the common .obs column between concatinated data\n",
    "    common_cat = \"corr_concat\"\n",
    "\n",
    "    # This block defines subset_predict and subset_train and also runs LR_compare function\n",
    "    group1 = (adata.obs[common_cat][adata.obs[common_cat].str.contains(Data1_group)]).unique()\n",
    "    group1 = list(group1)\n",
    "    group2 = (adata.obs[common_cat][adata.obs[common_cat].str.contains(Data2_group)]).unique()\n",
    "    group2 = list(group2)\n",
    "    subset_predict = np.array(adata.obs[common_cat].isin(group2))\n",
    "    subset_train = np.array(adata.obs[common_cat].isin(group1))\n",
    "    train_label = (adata.obs[common_cat][adata.obs[common_cat].isin(group1)]).values\n",
    "    penalty = \"elasticnet\"\n",
    "    common_cat = 'corr_concat'\n",
    "    col_name='predicted'\n",
    "    train_x = 'X'\n",
    "    # adata - training+prediction adata object (combined). Pre-processed already\n",
    "    # sparsity - larger sparsity, more bins, more conservative predictions, less accurate. Low sparist for clean output\n",
    "                # A value of 0.2 is reasonable for L2 ridge regression\n",
    "    # penalty - acts as buffer for assigning bins too harshly\n",
    "    # train_x - arg refers to where you would like to derive your training reference from, i.e., GEX (X) or/elif.\n",
    "                # PCA/UMAP in obsm. The two 'if' statements below handle train_x differently based on this\n",
    "                # Based on train_x, the loops below compute 'train_label' (cell type values in training/landscape data) \n",
    "                # and 'predict_x'(prediction data equivalent of train_x)\n",
    "    # train_label - cell type values in training/landscape data\n",
    "    # subset_predict - mandatory subset of predict_x which contains metadata for expression\n",
    "    # subset_train - mandatory subset of train_x which contains metadata for expression\n",
    "    \n",
    "    # Redefine LR parameters 'penalty' and 'sparsity' if you would like to deviate from defaults set above\n",
    "    \n",
    "    # Assign 'lr' as sklearn logistic regression func, with penalty and sparsity defined above\n",
    "    lr = LogisticRegression(penalty = penalty, C = sparcity, max_iter =  max_iter)\n",
    "    \n",
    "    if (penalty == \"l1\"):\n",
    "        lr = LogisticRegression(penalty = penalty, C = sparcity, max_iter =  max_iter, dual = True, solver = 'liblinear',multi_class = 'ovr' ) # one-vs-rest\n",
    "    if (penalty == \"elasticnet\"):\n",
    "        lr = LogisticRegression(penalty = penalty, C = sparcity, max_iter =  max_iter, dual=False,solver = 'saga',l1_ratio=l1_ratio,multi_class = 'multinomial')\n",
    "\n",
    "    if train_x == 'X':\n",
    "        # Define training parameters\n",
    "        train_label = adata.obs[common_cat].values\n",
    "        predict_label = train_label[subset_predict]\n",
    "        train_label = train_label[subset_train]\n",
    "        train_x = adata.X[adata.obs.index.isin(list(adata.obs[subset_train].index))]\n",
    "        predict_x = adata.X[adata.obs.index.isin(list(adata.obs[subset_predict].index))]\n",
    "\n",
    "    elif train_x in adata.obsm.keys():\n",
    "        # Define training parameters\n",
    "        train_label = adata.obs[common_cat].values\n",
    "        predict_label = train_label[subset_predict]\n",
    "        train_label = train_label[subset_train]\n",
    "        train_x = adata.obsm[train_x]\n",
    "        predict_x = train_x\n",
    "        train_x = train_x[subset_train, :]\n",
    "        # Define prediction parameters\n",
    "        predict_x = predict_x[subset_predict]\n",
    "        predict_x = pd.DataFrame(predict_x)\n",
    "        predict_x.index = adata.obs[subset_predict].index\n",
    "\n",
    "    # Train predictive model using user defined partition labels (train_x ,train_label, predict_x)\n",
    "    lr.fit(train_x, train_label)\n",
    "    predict_proba = lr.predict_proba(predict_x)\n",
    "\n",
    "    # Create prediction table and map to adata.obs (in adata.obs[\"predict\"] in the combined object), for the cells that\n",
    "    # are in predict dataset\n",
    "    predict = lr.predict(predict_x)\n",
    "    predict = pd.DataFrame(predict)\n",
    "    predict.index = adata.obs[subset_predict].index\n",
    "    col_name='predicted'\n",
    "    adata.obs[col_name] = adata.obs.index\n",
    "    adata.obs[col_name] = adata.obs[col_name].map(predict[0])"
   ]
  },
  {
   "cell_type": "code",
   "execution_count": null,
   "id": "composed-azerbaijan",
   "metadata": {},
   "outputs": [],
   "source": [
    "# Function to plot heatmap by percentage\n",
    "def plot_df_heatmap(df, cmap='viridis', title=None, figsize=(7, 7), rotation=90, save=None, **kwargs):\n",
    "    fig, ax = plt.subplots(figsize=figsize)\n",
    "    im = ax.imshow(df, cmap=cmap, aspect='auto', **kwargs)\n",
    "    if 0 < rotation < 90:\n",
    "        horizontalalignment = 'right'\n",
    "    else:\n",
    "        horizontalalignment = 'center'\n",
    "    plt.xticks(\n",
    "        range(len(df.columns)),\n",
    "        df.columns,\n",
    "        rotation=rotation,\n",
    "        horizontalalignment=horizontalalignment,\n",
    "    )\n",
    "    plt.yticks(range(len(df.index)), df.index)\n",
    "    if title:\n",
    "        fig.suptitle(title)\n",
    "    #fig.colorbar(im)\n",
    "    if save:\n",
    "        plt.savefig(fname=save, bbox_inches='tight', pad_inches=0.1)\n",
    "\n",
    "# Plot probability table by html\n",
    "def cross_table(adata, x, y, normalise=None, highlight=False, subset=None):                                                                                                                                                                                              \n",
    "    \"\"\"Make a cross table comparing two categorical annotations\n",
    "    \"\"\"\n",
    "    x_attr = adata.obs[x]\n",
    "    y_attr = adata.obs[y]\n",
    "    if subset is not None:\n",
    "        x_attr = x_attr[subset]\n",
    "        y_attr = y_attr[subset]\n",
    "    crs_tbl = pd.crosstab(x_attr, y_attr)\n",
    "    if normalise == 'x':\n",
    "        x_sizes = x_attr.groupby(x_attr).size().values\n",
    "        crs_tbl = (crs_tbl.T / x_sizes).round(2).T\n",
    "    elif normalise == 'y':\n",
    "        y_sizes = x_attr.groupby(y_attr).size().values\n",
    "        crs_tbl = (crs_tbl / y_sizes).round(2)\n",
    "    if highlight:\n",
    "        return crs_tbl.style.background_gradient(cmap='viridis', axis=0)\n",
    "    return crs_tbl"
   ]
  },
  {
   "cell_type": "code",
   "execution_count": null,
   "id": "armed-clarity",
   "metadata": {},
   "outputs": [],
   "source": [
    "import pickle"
   ]
  },
  {
   "cell_type": "code",
   "execution_count": null,
   "id": "changed-fight",
   "metadata": {},
   "outputs": [],
   "source": [
    "filename = '/home/jovyan/mount_farm/nfs/team298/ar32/YS/brain_objects/kriegstein/Cellbender_from_Jimmy/cellbender_from_jimmy/training_on_all_brain_cellbender_with_model_already_made/LR_indiv/LR_indiv_outs/microglia_LR_model_20220404.sav'\n",
    "pickle.dump(lr, open(filename, 'wb'))"
   ]
  },
  {
   "cell_type": "code",
   "execution_count": null,
   "id": "stylish-soundtrack",
   "metadata": {},
   "outputs": [],
   "source": [
    "model = lr"
   ]
  },
  {
   "cell_type": "code",
   "execution_count": null,
   "id": "stupid-longer",
   "metadata": {},
   "outputs": [],
   "source": []
  },
  {
   "cell_type": "code",
   "execution_count": null,
   "id": "corrected-dietary",
   "metadata": {},
   "outputs": [],
   "source": []
  },
  {
   "cell_type": "code",
   "execution_count": null,
   "id": "dressed-combining",
   "metadata": {},
   "outputs": [],
   "source": [
    "for i in adata_save.obs.columns:\n",
    "    adata_save.obs[i] = adata_save.obs[i].astype('category')"
   ]
  },
  {
   "cell_type": "code",
   "execution_count": null,
   "id": "developed-decimal",
   "metadata": {},
   "outputs": [],
   "source": [
    "adata_save.write('combined_YS_brain_cellbender_LR_20220404.h5ad')"
   ]
  },
  {
   "cell_type": "code",
   "execution_count": null,
   "id": "covered-cambridge",
   "metadata": {},
   "outputs": [],
   "source": [
    "run_date='20220404'"
   ]
  },
  {
   "cell_type": "code",
   "execution_count": null,
   "id": "pleasant-swing",
   "metadata": {},
   "outputs": [],
   "source": [
    "train_label = adata.obs[common_cat].values\n",
    "predict_label = train_label[subset_predict]\n",
    "\n",
    "pred_out = pd.DataFrame(model.predict(predict_x),columns = ['predicted'],index = adata.obs.index[adata.obs[common_cat].isin(group2)])\n",
    "pred_out['orig_labels'] = predict_label\n",
    "proba = pd.DataFrame(model.predict_proba(predict_x),columns = lr.classes_,index = adata.obs.index[adata.obs[common_cat].isin(group2)])\n",
    "pred_out = pred_out.join(proba)\n",
    "\n",
    "pred_out.to_csv(save_path + '/pred_out_' + run_date + '.csv')\n",
    "\n",
    "\n",
    "\n",
    "model_mean_probs = pred_out.loc[:, pred_out.columns != 'predicted'].groupby('orig_labels').mean()\n",
    "#model_mean_probs = pred_out.loc[:, pred_out.columns != 'predicted'].groupby('orig_labels').median()\n",
    "model_mean_probs = model_mean_probs #*100\n",
    "model_mean_probs = model_mean_probs.dropna(axis=0, how='any', thresh=None, subset=None, inplace=False)\n",
    "crs_tbl = model_mean_probs.copy()\n",
    "# Sort df columns by rows\n",
    "crs_tbl = crs_tbl.sort_values(by =list(crs_tbl.index), axis=1,ascending=False)\n",
    "\n",
    "\n",
    "\n",
    "# Plot_df_heatmap(crs_tbl, cmap='coolwarm', rotation=90, vmin=20, vmax=70)\n",
    "pal = sns.diverging_palette(240, 10, n=10)\n",
    "plt.figure(figsize=(20,15))\n",
    "\n",
    "sns.set(font_scale=0.8)\n",
    "g = sns.heatmap(crs_tbl, cmap=pal,  annot=True,vmin=0, vmax=1, linewidths=1, center=0.5, square=True, cbar_kws={\"shrink\": 0.5})\n",
    "plt.ylabel(\"Original labels\")\n",
    "plt.xlabel(\"Training labels\")"
   ]
  },
  {
   "cell_type": "markdown",
   "id": "original-comparison",
   "metadata": {},
   "source": [
    "# pull out microglia and macrophage"
   ]
  },
  {
   "cell_type": "code",
   "execution_count": null,
   "id": "difficult-colors",
   "metadata": {},
   "outputs": [],
   "source": [
    "df = adata.obs[adata.obs.index.isin(list(pred_out.index))]\n",
    "df"
   ]
  },
  {
   "cell_type": "code",
   "execution_count": null,
   "id": "fleet-holmes",
   "metadata": {},
   "outputs": [],
   "source": [
    "df.columns"
   ]
  },
  {
   "cell_type": "code",
   "execution_count": null,
   "id": "conservative-religion",
   "metadata": {},
   "outputs": [],
   "source": [
    "pred_out_backup = pred_out.copy()\n",
    "adata_save_backup = adata_save.copy()"
   ]
  },
  {
   "cell_type": "code",
   "execution_count": null,
   "id": "alone-pastor",
   "metadata": {},
   "outputs": [],
   "source": [
    "sc.pl.umap(adata, color='lr_batch')"
   ]
  },
  {
   "cell_type": "code",
   "execution_count": null,
   "id": "adolescent-escape",
   "metadata": {},
   "outputs": [],
   "source": [
    "pred_out['predicted'].value_counts()"
   ]
  },
  {
   "cell_type": "code",
   "execution_count": null,
   "id": "aquatic-beverage",
   "metadata": {},
   "outputs": [],
   "source": [
    "genes_to_plot = [\n",
    "'CD4',\n",
    "'CD14',\n",
    "'C1QA',\n",
    "'TREM2',\n",
    "'CX3CR1',\n",
    "'P2RY12'\n",
    "]"
   ]
  },
  {
   "cell_type": "code",
   "execution_count": null,
   "id": "opposed-massage",
   "metadata": {},
   "outputs": [],
   "source": [
    "sc.pl.dotplot(adata, groupby='predicted', var_names=genes_to_plot, swap_axes = True)"
   ]
  },
  {
   "cell_type": "code",
   "execution_count": null,
   "id": "global-helicopter",
   "metadata": {},
   "outputs": [],
   "source": []
  },
  {
   "cell_type": "markdown",
   "id": "chemical-prior",
   "metadata": {},
   "source": [
    "# transfer clusters over made on broad "
   ]
  },
  {
   "cell_type": "code",
   "execution_count": null,
   "id": "still-dispute",
   "metadata": {},
   "outputs": [],
   "source": [
    "metadata = pd.read_csv('/nfs/team298/ar32/YS/brain_objects/kriegstein/Cellbender_from_Jimmy/cellbender_from_jimmy/training_on_all_brain_cellbender_with_model_already_made/adata_metadata_with_microglia_clus_predicted_20220404.csv', index_col=0)"
   ]
  },
  {
   "cell_type": "code",
   "execution_count": null,
   "id": "removable-queen",
   "metadata": {},
   "outputs": [],
   "source": [
    "metadata"
   ]
  },
  {
   "cell_type": "code",
   "execution_count": null,
   "id": "pregnant-flour",
   "metadata": {},
   "outputs": [],
   "source": [
    "adata_backup = adata[:]"
   ]
  },
  {
   "cell_type": "code",
   "execution_count": null,
   "id": "interracial-thomas",
   "metadata": {},
   "outputs": [],
   "source": [
    "# Plotting purposes - Subset data to only contain prediction data with new predicted labelså\n",
    "\n",
    "# Make adata the predicted data with projected annotations in adata.obs[\"predicted\"]. \"corr_concat\" contains old \n",
    "# cell.labels and dataset name combined \n",
    "common_cat = \"corr_concat\"\n",
    "adata_concat = adata[:]\n",
    "adata = adata[adata.obs[\"predicted\"].isin(group1)]\n",
    "adata = adata[adata.obs[\"corr_concat\"].isin(group2)]"
   ]
  },
  {
   "cell_type": "code",
   "execution_count": null,
   "id": "severe-naples",
   "metadata": {},
   "outputs": [],
   "source": [
    "adata"
   ]
  },
  {
   "cell_type": "code",
   "execution_count": null,
   "id": "daily-airport",
   "metadata": {},
   "outputs": [],
   "source": [
    "list(adata.obs.index[adata.obs.index.isin(adata.obs.index)]) == list(metadata.index)"
   ]
  },
  {
   "cell_type": "code",
   "execution_count": null,
   "id": "respected-invite",
   "metadata": {},
   "outputs": [],
   "source": []
  },
  {
   "cell_type": "code",
   "execution_count": null,
   "id": "geological-princeton",
   "metadata": {},
   "outputs": [],
   "source": [
    "adata.obs['Microglia_check_res_20_clus_prediction'] = metadata['Microglia_check_res_20_clus_prediction']"
   ]
  },
  {
   "cell_type": "code",
   "execution_count": null,
   "id": "waiting-lemon",
   "metadata": {},
   "outputs": [],
   "source": []
  },
  {
   "cell_type": "code",
   "execution_count": null,
   "id": "israeli-million",
   "metadata": {},
   "outputs": [],
   "source": [
    "adata.obs['Microglia_check_res_20_clus_prediction'].value_counts()"
   ]
  },
  {
   "cell_type": "code",
   "execution_count": null,
   "id": "stretch-confirmation",
   "metadata": {},
   "outputs": [],
   "source": []
  },
  {
   "cell_type": "code",
   "execution_count": null,
   "id": "median-understanding",
   "metadata": {},
   "outputs": [],
   "source": [
    "x = 'predicted'\n",
    "y =  \"Microglia_check_res_20_clus_prediction\"\n",
    "\n",
    "y_attr = adata.obs[y]\n",
    "x_attr = adata.obs[x]\n",
    "crs = pd.crosstab(x_attr, y_attr)\n",
    "crs_tbl = crs\n",
    "for col in crs_tbl :\n",
    "    crs_tbl[col] = crs_tbl[col].div(crs_tbl[col].sum(axis=0)).multiply(100).round(2)\n",
    "    \n",
    "# Sort df columns by rows\n",
    "crs_tbl = crs_tbl.sort_values(by =list(crs_tbl.index), axis=1,ascending=False)\n",
    "\n",
    "# Plot_df_heatmap(crs_tbl, cmap='coolwarm', rotation=90, vmin=20, vmax=70)\n",
    "pal = sns.diverging_palette(240, 10, n=10)\n",
    "plt.figure(figsize=(20,15))\n",
    "sns.set(font_scale=0.8)\n",
    "g = sns.heatmap(crs_tbl[['Macrophage_clus_prediction','Microglia_clus_prediction']], cmap=pal, vmin=0, vmax=100, linewidths=1, center=50, square=True, cbar_kws={\"shrink\": 0.5}, annot=False)\n",
    "plt.xlabel(\"Original labels\")\n",
    "plt.ylabel(\"Predicted labels\")\n",
    "#plt.savefig(save_path + \"/LR_predictions_myeloid_clus_predict_labels.pdf\")\n",
    "#crs_tbl.to_csv(save_path + \"/crs_tbl_myeloid_clus_predict_labels.csv\")"
   ]
  },
  {
   "cell_type": "code",
   "execution_count": null,
   "id": "pregnant-least",
   "metadata": {},
   "outputs": [],
   "source": [
    "x = 'predicted'\n",
    "y =  \"predicted\"\n",
    "\n",
    "y_attr = adata.obs[y]\n",
    "x_attr = adata.obs[x]\n",
    "crs = pd.crosstab(x_attr, y_attr)\n",
    "crs_tbl = crs\n",
    "for col in crs_tbl :\n",
    "    crs_tbl[col] = crs_tbl[col].div(crs_tbl[col].sum(axis=0)).multiply(100).round(2)\n",
    "    \n",
    "# Sort df columns by rows\n",
    "crs_tbl = crs_tbl.sort_values(by =list(crs_tbl.index), axis=1,ascending=False)\n",
    "\n",
    "# Plot_df_heatmap(crs_tbl, cmap='coolwarm', rotation=90, vmin=20, vmax=70)\n",
    "pal = sns.diverging_palette(240, 10, n=10)\n",
    "plt.figure(figsize=(20,15))\n",
    "sns.set(font_scale=0.8)\n",
    "g = sns.heatmap(crs_tbl[['Macrophage_training','Microglia_training']], cmap=pal, vmin=0, vmax=100, linewidths=1, center=50, square=True, cbar_kws={\"shrink\": 0.5}, annot=False)\n",
    "plt.xlabel(\"Original labels\")\n",
    "plt.ylabel(\"Predicted labels\")\n",
    "#plt.savefig(save_path + \"/LR_predictions_myeloid_clus_predict_labels.pdf\")\n",
    "#crs_tbl.to_csv(save_path + \"/crs_tbl_myeloid_clus_predict_labels.csv\")"
   ]
  },
  {
   "cell_type": "code",
   "execution_count": null,
   "id": "durable-colonial",
   "metadata": {},
   "outputs": [],
   "source": []
  },
  {
   "cell_type": "markdown",
   "id": "based-firewall",
   "metadata": {},
   "source": [
    "# refind microglia in new embedding"
   ]
  },
  {
   "cell_type": "code",
   "execution_count": null,
   "id": "parallel-settlement",
   "metadata": {},
   "outputs": [],
   "source": []
  },
  {
   "cell_type": "code",
   "execution_count": null,
   "id": "steady-phone",
   "metadata": {},
   "outputs": [],
   "source": [
    "adata_save"
   ]
  },
  {
   "cell_type": "code",
   "execution_count": null,
   "id": "polyphonic-shape",
   "metadata": {},
   "outputs": [],
   "source": [
    "adata"
   ]
  },
  {
   "cell_type": "code",
   "execution_count": null,
   "id": "loving-interval",
   "metadata": {},
   "outputs": [],
   "source": [
    "adata = adata_save[:]"
   ]
  },
  {
   "cell_type": "code",
   "execution_count": null,
   "id": "binary-valuable",
   "metadata": {},
   "outputs": [],
   "source": []
  },
  {
   "cell_type": "code",
   "execution_count": null,
   "id": "conceptual-columbia",
   "metadata": {},
   "outputs": [],
   "source": [
    "adata"
   ]
  },
  {
   "cell_type": "code",
   "execution_count": null,
   "id": "opposed-diving",
   "metadata": {},
   "outputs": [],
   "source": [
    "res = 5\n",
    "key_add = 'leiden_res5'\n",
    "adata.obs[key_add] = \"nan\"\n",
    "sc.tl.leiden(adata, resolution= res, key_added= key_add, random_state=26, n_iterations=-1)"
   ]
  },
  {
   "cell_type": "code",
   "execution_count": null,
   "id": "brilliant-corruption",
   "metadata": {},
   "outputs": [],
   "source": [
    "adata.obs"
   ]
  },
  {
   "cell_type": "code",
   "execution_count": null,
   "id": "fitting-waterproof",
   "metadata": {},
   "outputs": [],
   "source": [
    "pred_out"
   ]
  },
  {
   "cell_type": "code",
   "execution_count": null,
   "id": "cooperative-affairs",
   "metadata": {},
   "outputs": [],
   "source": []
  },
  {
   "cell_type": "code",
   "execution_count": null,
   "id": "ordinary-fleece",
   "metadata": {},
   "outputs": [],
   "source": [
    "adata = adata[adata.obs.index.isin(list(pred_out.index))]"
   ]
  },
  {
   "cell_type": "code",
   "execution_count": null,
   "id": "angry-piece",
   "metadata": {},
   "outputs": [],
   "source": [
    "adata"
   ]
  },
  {
   "cell_type": "code",
   "execution_count": null,
   "id": "stretch-standing",
   "metadata": {},
   "outputs": [],
   "source": [
    "list(adata.obs.index[adata.obs.index.isin(adata.obs.index)]) == list(pred_out.index)"
   ]
  },
  {
   "cell_type": "code",
   "execution_count": null,
   "id": "wired-costa",
   "metadata": {},
   "outputs": [],
   "source": [
    "adata.obs['predicted'] = pred_out['predicted']"
   ]
  },
  {
   "cell_type": "code",
   "execution_count": null,
   "id": "changing-fourth",
   "metadata": {},
   "outputs": [],
   "source": [
    "key_add = 'leiden_res5'\n",
    "key_add2 = key_add + '_sub_clust_res_1'\n",
    "adata.obs[key_add2] = adata.obs[key_add].astype('category')\n",
    "for cluster in adata.obs[key_add2].unique():\n",
    "    if len(adata.obs[adata.obs[key_add2].isin([cluster])]) > 10: # will error with 1 cell\n",
    "        sc.tl.leiden(adata, resolution= 1, key_added=key_add2, restrict_to=[key_add2, [cluster]])"
   ]
  },
  {
   "cell_type": "code",
   "execution_count": null,
   "id": "graphic-fabric",
   "metadata": {},
   "outputs": [],
   "source": [
    "pred_out['leiden_res5_sub_clust_res_1'] = adata.obs['leiden_res5_sub_clust_res_1']"
   ]
  },
  {
   "cell_type": "code",
   "execution_count": null,
   "id": "crude-accordance",
   "metadata": {},
   "outputs": [],
   "source": [
    "cluster_prediction = \"clus_prediction\"\n",
    "clusters_reassign = \"leiden_res5_sub_clust_res_1\"\n",
    "lr_predicted_col = 'predicted'\n",
    "reassign_classes = list(pred_out['leiden_res5_sub_clust_res_1'].unique())\n",
    "\n",
    "lm = 1 # lambda value\n",
    "pred_out[cluster_prediction] = pred_out[clusters_reassign]\n",
    "for z in pred_out[clusters_reassign][pred_out[clusters_reassign].isin(reassign_classes)].unique():\n",
    "    df = pred_out\n",
    "    df = df[(df[clusters_reassign].isin([z]))]\n",
    "    df_count = pd.DataFrame(df[lr_predicted_col].value_counts())\n",
    "    # Look for classificationds > 68CI\n",
    "    if len(df_count) > 1:\n",
    "        df_count_temp = df_count[df_count[lr_predicted_col]>int(int(df_count.mean()) + (df_count.std()*lm))]\n",
    "        if len(df_count_temp >= 1):\n",
    "            df_count = df_count_temp\n",
    "    #print(df_count)     \n",
    "    freq_arranged = df_count.index\n",
    "    cat = freq_arranged[0]\n",
    "    #df.loc[:,cluster_prediction] = cat\n",
    "#Make the cluster assignment first\n",
    "    cat = cat.replace(data1,'') + '_clus_prediction'\n",
    "    pred_out[cluster_prediction] = pred_out[cluster_prediction].astype(str)\n",
    "    pred_out.loc[pred_out[clusters_reassign] == z, [cluster_prediction]] = cat\n",
    "    #print(cat)\n",
    "# Create assignments for any classification >68CI\n",
    "    for cats in freq_arranged:\n",
    "        #print(cats)\n",
    "        cats_assignment = cats.replace(data1,'') + '_clus_prediction'\n",
    "        pred_out.loc[(pred_out[clusters_reassign] == z) & (pred_out[lr_predicted_col] == cats),[cluster_prediction]] = cats_assignment\n",
    "min_counts = pd.DataFrame((pred_out[cluster_prediction].value_counts()))\n",
    "reassign = list(min_counts.index[min_counts[cluster_prediction]<=2])\n",
    "pred_out[cluster_prediction] = pred_out[cluster_prediction].str.replace(str(''.join(reassign)),str(''.join(pred_out.loc[pred_out[clusters_reassign].isin(list(pred_out.loc[(pred_out[cluster_prediction].isin(reassign)),clusters_reassign])),lr_predicted_col].value_counts().head(1).index.values)))#.replace(data1,'') + '_clus_prediction')"
   ]
  },
  {
   "cell_type": "code",
   "execution_count": null,
   "id": "authentic-africa",
   "metadata": {},
   "outputs": [],
   "source": [
    "adata.obs['clus_prediction'] = pred_out[cluster_prediction]\n",
    "adata.obs['clus_prediction'].value_counts(dropna=False)"
   ]
  },
  {
   "cell_type": "code",
   "execution_count": null,
   "id": "operating-spider",
   "metadata": {},
   "outputs": [],
   "source": [
    "adata.obs['predicted'].value_counts(dropna=False)"
   ]
  },
  {
   "cell_type": "code",
   "execution_count": null,
   "id": "answering-rubber",
   "metadata": {},
   "outputs": [],
   "source": [
    "pd.set_option('display.max_rows', 500)\n",
    "pd.set_option('display.max_columns', 500)\n",
    "pd.set_option('display.width', 1000)"
   ]
  },
  {
   "cell_type": "code",
   "execution_count": null,
   "id": "manufactured-vietnamese",
   "metadata": {},
   "outputs": [],
   "source": [
    "df_check = adata.obs[adata.obs['predicted'].isin(['Macrophage_training','Microglia_training'])]\n",
    "df_check.groupby(['leiden_res5','clus_prediction']).apply(len)"
   ]
  },
  {
   "cell_type": "code",
   "execution_count": null,
   "id": "spectacular-birth",
   "metadata": {},
   "outputs": [],
   "source": [
    "df_check['predicted'].value_counts(dropna=False)"
   ]
  },
  {
   "cell_type": "code",
   "execution_count": null,
   "id": "mysterious-excess",
   "metadata": {},
   "outputs": [],
   "source": [
    "df_check2 = df_check[df_check['clus_prediction'].isin(['Macrophage_clus_prediction','Microglia_clus_prediction'])]"
   ]
  },
  {
   "cell_type": "code",
   "execution_count": null,
   "id": "stretch-bathroom",
   "metadata": {},
   "outputs": [],
   "source": [
    "df_check2.groupby(['leiden_res5_sub_clust_res_1','clus_prediction']).apply(len)"
   ]
  },
  {
   "cell_type": "code",
   "execution_count": null,
   "id": "independent-kitty",
   "metadata": {},
   "outputs": [],
   "source": [
    "df_check3 = df_check[df_check['clus_prediction'].isin(['Microglia_clus_prediction'])]"
   ]
  },
  {
   "cell_type": "code",
   "execution_count": null,
   "id": "elder-garden",
   "metadata": {},
   "outputs": [],
   "source": [
    "df_check3.groupby(['leiden_res5_sub_clust_res_1','clus_prediction']).apply(len)"
   ]
  },
  {
   "cell_type": "code",
   "execution_count": null,
   "id": "satisfactory-flash",
   "metadata": {},
   "outputs": [],
   "source": []
  },
  {
   "cell_type": "code",
   "execution_count": null,
   "id": "electoral-eating",
   "metadata": {},
   "outputs": [],
   "source": [
    "sc.pl.dotplot(adata, groupby='predicted', var_names=genes_to_plot)"
   ]
  },
  {
   "cell_type": "code",
   "execution_count": null,
   "id": "tribal-transparency",
   "metadata": {},
   "outputs": [],
   "source": [
    "sc.pl.dotplot(adata, groupby='clus_prediction', var_names=genes_to_plot)"
   ]
  },
  {
   "cell_type": "code",
   "execution_count": null,
   "id": "pending-battle",
   "metadata": {},
   "outputs": [],
   "source": [
    "adata.obs['Microglia_check_res_20_clus_prediction'] = metadata['Microglia_check_res_20_clus_prediction']"
   ]
  },
  {
   "cell_type": "code",
   "execution_count": null,
   "id": "educational-poland",
   "metadata": {},
   "outputs": [],
   "source": [
    "sc.pl.dotplot(adata, groupby='Microglia_check_res_20_clus_prediction', var_names=genes_to_plot)"
   ]
  },
  {
   "cell_type": "markdown",
   "id": "knowing-imaging",
   "metadata": {},
   "source": [
    "# new clus prediction looks better than model ran on broad"
   ]
  },
  {
   "cell_type": "code",
   "execution_count": null,
   "id": "thermal-freight",
   "metadata": {},
   "outputs": [],
   "source": [
    "adata.obs['predicted'].value_counts()"
   ]
  },
  {
   "cell_type": "code",
   "execution_count": null,
   "id": "standard-resolution",
   "metadata": {},
   "outputs": [],
   "source": [
    "adata.obs['clus_prediction'].value_counts()"
   ]
  },
  {
   "cell_type": "code",
   "execution_count": null,
   "id": "modular-stable",
   "metadata": {},
   "outputs": [],
   "source": [
    "adata.obs['Microglia_check_res_20_clus_prediction'].value_counts()"
   ]
  },
  {
   "cell_type": "code",
   "execution_count": null,
   "id": "sunrise-northeast",
   "metadata": {},
   "outputs": [],
   "source": []
  },
  {
   "cell_type": "markdown",
   "id": "stylish-basin",
   "metadata": {},
   "source": [
    "# probably got so few microglia back due to number of other additional celltypes affecting model probabilities as too complex"
   ]
  },
  {
   "cell_type": "code",
   "execution_count": null,
   "id": "forbidden-banner",
   "metadata": {},
   "outputs": [],
   "source": []
  },
  {
   "cell_type": "code",
   "execution_count": null,
   "id": "sufficient-warrant",
   "metadata": {},
   "outputs": [],
   "source": [
    "x = 'predicted'\n",
    "y =  \"clus_prediction\"\n",
    "\n",
    "y_attr = adata.obs[y]\n",
    "x_attr = adata.obs[x]\n",
    "crs = pd.crosstab(x_attr, y_attr)\n",
    "crs_tbl = crs\n",
    "for col in crs_tbl :\n",
    "    crs_tbl[col] = crs_tbl[col].div(crs_tbl[col].sum(axis=0)).multiply(100).round(2)\n",
    "    \n",
    "# Sort df columns by rows\n",
    "crs_tbl = crs_tbl.sort_values(by =list(crs_tbl.index), axis=1,ascending=False)\n",
    "\n",
    "# Plot_df_heatmap(crs_tbl, cmap='coolwarm', rotation=90, vmin=20, vmax=70)\n",
    "pal = sns.diverging_palette(240, 10, n=10)\n",
    "plt.figure(figsize=(20,15))\n",
    "sns.set(font_scale=0.8)\n",
    "g = sns.heatmap(crs_tbl[['Macrophage_clus_prediction','Microglia_clus_prediction']], cmap=pal, vmin=0, vmax=100, linewidths=1, center=50, square=True, cbar_kws={\"shrink\": 0.5}, annot=False)\n",
    "plt.xlabel(\"Original labels\")\n",
    "plt.ylabel(\"Predicted labels\")\n",
    "plt.savefig(save_path + \"/brain_LR_predictions_myeloid_clus_predict_labels_20220405.pdf\")\n",
    "crs_tbl.to_csv(save_path + \"/brani_crs_tbl_myeloid_clus_predict_labels_20220405.csv\")"
   ]
  },
  {
   "cell_type": "markdown",
   "id": "complete-slide",
   "metadata": {},
   "source": [
    "# Cut for figure"
   ]
  },
  {
   "cell_type": "code",
   "execution_count": null,
   "id": "municipal-punishment",
   "metadata": {},
   "outputs": [],
   "source": [
    "ordering = ['MOP_training', 'Promonocyte_training','Monocyte_training','Pre_Macrophage_training','Macrophage_training','Microglia_training']"
   ]
  },
  {
   "cell_type": "code",
   "execution_count": null,
   "id": "bacterial-characteristic",
   "metadata": {},
   "outputs": [],
   "source": [
    "crs_tbl2 =crs_tbl.copy()\n",
    "crs_tbl2 = crs_tbl2[crs_tbl2.index.isin(ordering)]\n",
    "crs_tbl2 = crs_tbl2[['Macrophage_clus_prediction','Microglia_clus_prediction']]\n",
    "crs_tbl2"
   ]
  },
  {
   "cell_type": "code",
   "execution_count": null,
   "id": "criminal-slave",
   "metadata": {},
   "outputs": [],
   "source": [
    "crs_tbl2 = crs_tbl2.T"
   ]
  },
  {
   "cell_type": "code",
   "execution_count": null,
   "id": "brief-shoot",
   "metadata": {},
   "outputs": [],
   "source": [
    "crs_tbl2"
   ]
  },
  {
   "cell_type": "code",
   "execution_count": null,
   "id": "failing-rendering",
   "metadata": {},
   "outputs": [],
   "source": [
    "mono_row = {'Macrophage_clus_prediction':0, 'Microglia_clus_prediction':0}"
   ]
  },
  {
   "cell_type": "code",
   "execution_count": null,
   "id": "valid-colombia",
   "metadata": {},
   "outputs": [],
   "source": [
    "crs_tbl2.loc['Monocyte_training'] = mono_row"
   ]
  },
  {
   "cell_type": "code",
   "execution_count": null,
   "id": "mechanical-comment",
   "metadata": {},
   "outputs": [],
   "source": [
    "crs_tbl2"
   ]
  },
  {
   "cell_type": "code",
   "execution_count": null,
   "id": "loose-crisis",
   "metadata": {},
   "outputs": [],
   "source": [
    "crs_tbl2 = crs_tbl2.T\n",
    "crs_tbl2 = crs_tbl2[ordering]\n",
    "crs_tbl2 = crs_tbl2.T\n",
    "crs_tbl2"
   ]
  },
  {
   "cell_type": "code",
   "execution_count": null,
   "id": "norwegian-convention",
   "metadata": {},
   "outputs": [],
   "source": [
    "# Plot_df_heatmap(crs_tbl, cmap='coolwarm', rotation=90, vmin=20, vmax=70)\n",
    "pal = sns.diverging_palette(240, 10, n=10)\n",
    "plt.figure(figsize=(20,15))\n",
    "sns.set(font_scale=0.8)\n",
    "g = sns.heatmap(crs_tbl2, cmap=pal, vmin=0, vmax=100, linewidths=1, center=50, square=True, cbar_kws={\"shrink\": 0.5}, annot=False)\n",
    "plt.xlabel(\"Original labels\")\n",
    "plt.ylabel(\"Predicted labels\")\n",
    "plt.savefig(save_path + \"/brain_skin_probability_heatmap_20220405.pdf\")\n",
    "crs_tbl.to_csv(save_path + \"/crs_tbl_YS_brain_probability_20220405.csv\")"
   ]
  },
  {
   "cell_type": "code",
   "execution_count": null,
   "id": "standard-debut",
   "metadata": {},
   "outputs": [],
   "source": []
  },
  {
   "cell_type": "code",
   "execution_count": null,
   "id": "earlier-asthma",
   "metadata": {},
   "outputs": [],
   "source": [
    "adata.obs.to_csv('brain_microglia_clean_metadata_20220405.csv')"
   ]
  },
  {
   "cell_type": "code",
   "execution_count": null,
   "id": "normal-honey",
   "metadata": {},
   "outputs": [],
   "source": [
    "pred_out.to_csv('final_pred_out_brain_20220405.csv')"
   ]
  },
  {
   "cell_type": "code",
   "execution_count": null,
   "id": "piano-heading",
   "metadata": {},
   "outputs": [],
   "source": [
    "adata.write('brain_with_clean_microglia_post_LR_20220405.h5ad')"
   ]
  }
 ],
 "metadata": {
  "kernelspec": {
   "display_name": "Python_env_Hlab",
   "language": "python",
   "name": "python_env_hlab"
  },
  "language_info": {
   "codemirror_mode": {
    "name": "ipython",
    "version": 3
   },
   "file_extension": ".py",
   "mimetype": "text/x-python",
   "name": "python",
   "nbconvert_exporter": "python",
   "pygments_lexer": "ipython3",
   "version": "3.9.4"
  }
 },
 "nbformat": 4,
 "nbformat_minor": 5
}
