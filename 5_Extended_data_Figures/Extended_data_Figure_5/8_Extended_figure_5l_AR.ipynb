{
 "cells": [
  {
   "cell_type": "markdown",
   "id": "thermal-intranet",
   "metadata": {},
   "source": [
    "# Extended figure 3l"
   ]
  },
  {
   "cell_type": "markdown",
   "id": "overall-secretariat",
   "metadata": {},
   "source": [
    "# Plot 1 - HSPC's"
   ]
  },
  {
   "cell_type": "code",
   "execution_count": null,
   "id": "fitted-reservation",
   "metadata": {},
   "outputs": [],
   "source": [
    "import scanpy as sc\n",
    "import pandas as pd\n",
    "import numpy as np\n",
    "import matplotlib.pyplot as plt\n",
    "import seaborn as sns; sns.set(color_codes=True)\n",
    "from pathlib import Path\n",
    "\n",
    "sc.settings.verbosity = 3  # verbosity: errors (0), warnings (1), info (2), hints (3)\n",
    "sc.settings.set_figure_params(dpi=300, dpi_save=300, color_map='viridis')"
   ]
  },
  {
   "cell_type": "code",
   "execution_count": null,
   "id": "floral-desire",
   "metadata": {},
   "outputs": [],
   "source": [
    "adata = sc.read('/home/jovyan/YS_project/YS/Data_objects/final_objects/A4_V7_YS_integrated_data_singlets_with_raw_counts_for_MS_plotting_20211111_with_obsp.h5ad')"
   ]
  },
  {
   "cell_type": "code",
   "execution_count": null,
   "id": "balanced-recorder",
   "metadata": {},
   "outputs": [],
   "source": [
    "adata = adata[adata.obs['cell.labels'].isin(['HSPC_1','HSPC_2'])]"
   ]
  },
  {
   "cell_type": "markdown",
   "id": "federal-belly",
   "metadata": {},
   "source": [
    "# Pre-Process data"
   ]
  },
  {
   "cell_type": "code",
   "execution_count": null,
   "id": "weighted-briefing",
   "metadata": {},
   "outputs": [],
   "source": [
    "# normalise count data\n",
    "sc.pp.normalize_total(adata)"
   ]
  },
  {
   "cell_type": "code",
   "execution_count": null,
   "id": "southern-boring",
   "metadata": {},
   "outputs": [],
   "source": [
    "# log the count data\n",
    "sc.pp.log1p(adata)"
   ]
  },
  {
   "cell_type": "code",
   "execution_count": null,
   "id": "seventh-subscriber",
   "metadata": {},
   "outputs": [],
   "source": [
    "# scale the data\n",
    "sc.pp.scale(adata, max_value=10)\n",
    "# scale the negative values in adata.X (which have been normalised, logged and scaled) to zero\n",
    "adata.X = np.where(adata.X < 0, 0, adata.X)"
   ]
  },
  {
   "cell_type": "markdown",
   "id": "numerous-senator",
   "metadata": {},
   "source": [
    "# Figure plots"
   ]
  },
  {
   "cell_type": "code",
   "execution_count": null,
   "id": "three-biotechnology",
   "metadata": {
    "tags": []
   },
   "outputs": [],
   "source": [
    "gene_list = [\n",
    "'KIT',\n",
    "'NOTCH1',\n",
    "'NOTCH2',\n",
    "'NOTCH2',\n",
    "'ITGA5',\n",
    "'ITGB1',\n",
    "'SLC7A1',\n",
    "'FZD3',\n",
    "'NOTCH2',\n",
    "'ITGAV',\n",
    "'ITGB1',\n",
    "'MPL',\n",
    "'ITGAV',\n",
    "'ITGB1',\n",
    "'ITGA5',\n",
    "'ITGB1',\n",
    "'ITGA4',\n",
    "'ITGB1',\n",
    "]"
   ]
  },
  {
   "cell_type": "code",
   "execution_count": null,
   "id": "revised-growing",
   "metadata": {},
   "outputs": [],
   "source": [
    "sc.pl.dotplot(adata, var_names=gene_list, groupby='cell.labels', save='Cellphonedb_HSPC_1_2_markers_20220311.pdf', figsize=(10,2))"
   ]
  },
  {
   "cell_type": "code",
   "execution_count": null,
   "id": "varied-concrete",
   "metadata": {},
   "outputs": [],
   "source": []
  },
  {
   "cell_type": "code",
   "execution_count": null,
   "id": "centered-remove",
   "metadata": {},
   "outputs": [],
   "source": []
  },
  {
   "cell_type": "markdown",
   "id": "clear-fortune",
   "metadata": {},
   "source": [
    "# Plot 2"
   ]
  },
  {
   "cell_type": "code",
   "execution_count": null,
   "id": "refined-envelope",
   "metadata": {},
   "outputs": [],
   "source": [
    "adata2 = sc.read('/home/jovyan/YS_project/YS/Data_objects/final_objects/A4_V7_YS_integrated_data_singlets_with_raw_counts_for_MS_plotting_20211111_with_obsp.h5ad')"
   ]
  },
  {
   "cell_type": "code",
   "execution_count": null,
   "id": "valued-flight",
   "metadata": {},
   "outputs": [],
   "source": [
    "adata2.obs['cell.labels'].value_counts()"
   ]
  },
  {
   "cell_type": "code",
   "execution_count": null,
   "id": "described-words",
   "metadata": {},
   "outputs": [],
   "source": [
    "adata2 = adata2[adata2.obs['cell.labels'].isin(['AEC','Prolif_AEC','HE','Immature_EC','Sinusoidal_EC','Prolif_Sinusoidal_EC','VWF_EC','Fibroblast','Smooth_Muscle','Endoderm',])]"
   ]
  },
  {
   "cell_type": "code",
   "execution_count": null,
   "id": "forced-furniture",
   "metadata": {},
   "outputs": [],
   "source": [
    "adata2.obs['cell.labels'].value_counts()"
   ]
  },
  {
   "cell_type": "markdown",
   "id": "infrared-settlement",
   "metadata": {},
   "source": [
    "# Pre-Process data"
   ]
  },
  {
   "cell_type": "code",
   "execution_count": null,
   "id": "cardiac-compression",
   "metadata": {},
   "outputs": [],
   "source": [
    "# normalise count data\n",
    "sc.pp.normalize_total(adata2)"
   ]
  },
  {
   "cell_type": "code",
   "execution_count": null,
   "id": "intellectual-departure",
   "metadata": {},
   "outputs": [],
   "source": [
    "# log the count data\n",
    "sc.pp.log1p(adata2)"
   ]
  },
  {
   "cell_type": "code",
   "execution_count": null,
   "id": "suffering-polish",
   "metadata": {},
   "outputs": [],
   "source": [
    "# scale the data\n",
    "sc.pp.scale(adata2, max_value=10)\n",
    "# scale the negative values in adata.X (which have been normalised, logged and scaled) to zero\n",
    "adata2.X = np.where(adata2.X < 0, 0, adata2.X)"
   ]
  },
  {
   "cell_type": "code",
   "execution_count": null,
   "id": "promotional-metabolism",
   "metadata": {},
   "outputs": [],
   "source": [
    "gene_list = [\n",
    "'KITLG',\n",
    "'DLL1',\n",
    "'DLL1',\n",
    "'JAG1',\n",
    "'FBN1',\n",
    "'CSF1',\n",
    "'WNT5A',\n",
    "'DLK1',\n",
    "'VTN',\n",
    "'THPO',\n",
    "'FN1',\n",
    "'FN1',\n",
    "'FN1',\n",
    "]"
   ]
  },
  {
   "cell_type": "code",
   "execution_count": null,
   "id": "changing-miracle",
   "metadata": {},
   "outputs": [],
   "source": [
    "sc.pl.dotplot(adata2, var_names=gene_list, groupby='cell.labels', save='Cellphonedb_other_celltypes_markers_20220311.pdf', figsize=(10,4))"
   ]
  },
  {
   "cell_type": "code",
   "execution_count": null,
   "id": "illegal-laundry",
   "metadata": {},
   "outputs": [],
   "source": []
  },
  {
   "cell_type": "code",
   "execution_count": null,
   "id": "republican-newman",
   "metadata": {},
   "outputs": [],
   "source": []
  }
 ],
 "metadata": {
  "kernelspec": {
   "display_name": "Python_env_Hlab",
   "language": "python",
   "name": "python_env_hlab"
  },
  "language_info": {
   "codemirror_mode": {
    "name": "ipython",
    "version": 3
   },
   "file_extension": ".py",
   "mimetype": "text/x-python",
   "name": "python",
   "nbconvert_exporter": "python",
   "pygments_lexer": "ipython3",
   "version": "3.9.4"
  }
 },
 "nbformat": 4,
 "nbformat_minor": 5
}
