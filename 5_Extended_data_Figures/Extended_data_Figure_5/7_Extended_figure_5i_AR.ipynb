{
 "cells": [
  {
   "cell_type": "markdown",
   "id": "urban-section",
   "metadata": {},
   "source": [
    "# Extended figure 3i"
   ]
  },
  {
   "cell_type": "code",
   "execution_count": null,
   "id": "respective-laundry",
   "metadata": {},
   "outputs": [],
   "source": [
    "import scanpy as sc\n",
    "import pandas as pd\n",
    "import numpy as np\n",
    "import matplotlib.pyplot as plt\n",
    "import seaborn as sns; sns.set(color_codes=True)\n",
    "from pathlib import Path\n",
    "import os.path\n",
    "\n",
    "sc.settings.verbosity = 3  # verbosity: errors (0), warnings (1), info (2), hints (3)\n",
    "sc.settings.set_figure_params(dpi=300, dpi_save=300, color_map='viridis')"
   ]
  },
  {
   "cell_type": "code",
   "execution_count": null,
   "id": "south-rehabilitation",
   "metadata": {},
   "outputs": [],
   "source": [
    "adata = sc.read('/home/jovyan/YS_project/YS/Data_objects/final_objects/Combined_YS_Fliver_raw_15112021.h5ad')"
   ]
  },
  {
   "cell_type": "code",
   "execution_count": null,
   "id": "dramatic-selection",
   "metadata": {},
   "outputs": [],
   "source": [
    "adata.obs.groupby(['cell.labels']).apply(len)"
   ]
  },
  {
   "cell_type": "code",
   "execution_count": null,
   "id": "intense-junior",
   "metadata": {},
   "outputs": [],
   "source": [
    "adata = adata[adata.obs['cell.labels'].isin(['Immature_EC','Sinusoidal_EC','Prolif_Sinusoidal_EC','VWF_EC','AEC','Prolif_AEC','HE','Endothelium'])]"
   ]
  },
  {
   "cell_type": "code",
   "execution_count": null,
   "id": "younger-myrtle",
   "metadata": {},
   "outputs": [],
   "source": [
    "adata.obs['cell.labels'] = adata.obs['cell.labels'].cat.reorder_categories(['Immature_EC','Sinusoidal_EC','Prolif_Sinusoidal_EC','VWF_EC','AEC','Prolif_AEC','HE','Endothelium'])"
   ]
  },
  {
   "cell_type": "code",
   "execution_count": null,
   "id": "unknown-winter",
   "metadata": {},
   "outputs": [],
   "source": [
    "adata.obs.groupby(['cell.labels']).apply(len)"
   ]
  },
  {
   "cell_type": "markdown",
   "id": "according-efficiency",
   "metadata": {},
   "source": [
    "# Pre-Process data"
   ]
  },
  {
   "cell_type": "code",
   "execution_count": null,
   "id": "palestinian-pasta",
   "metadata": {},
   "outputs": [],
   "source": [
    "# normalise count data\n",
    "sc.pp.normalize_total(adata)"
   ]
  },
  {
   "cell_type": "code",
   "execution_count": null,
   "id": "declared-front",
   "metadata": {},
   "outputs": [],
   "source": [
    "# log the count data\n",
    "sc.pp.log1p(adata)"
   ]
  },
  {
   "cell_type": "code",
   "execution_count": null,
   "id": "revolutionary-enough",
   "metadata": {},
   "outputs": [],
   "source": [
    "# scale the data\n",
    "sc.pp.scale(adata, max_value=10)\n",
    "# scale the negative values in adata.X (which have been normalised, logged and scaled) to zero\n",
    "adata.X = np.where(adata.X < 0, 0, adata.X)"
   ]
  },
  {
   "cell_type": "markdown",
   "id": "selective-merit",
   "metadata": {},
   "source": [
    "# Plot"
   ]
  },
  {
   "cell_type": "code",
   "execution_count": null,
   "id": "individual-greek",
   "metadata": {},
   "outputs": [],
   "source": [
    "genes_plot_1 = ['LYVE1','KDR','ESAM','PECAM1','CDH5','PLVAP','CD34','FLT1']\n",
    "genes_plot_2 = ['CCL21','PROX1','PDPN','TFF3']\n",
    "genes_plot_3 = ['LYVE1','KDR','ESAM','PECAM1','CDH5','PLVAP','CD34','FLT1','CCL21','PROX1','PDPN','TFF3']"
   ]
  },
  {
   "cell_type": "code",
   "execution_count": null,
   "id": "mathematical-combat",
   "metadata": {},
   "outputs": [],
   "source": [
    "os.chdir('/home/jovyan/YS_project/YS/Figure_generation_fist_made_14092021_but_actual_final_plot_folder_location/temp_plots/')\n",
    "sc.pl.StackedViolin(adata, var_names=genes_plot_1, rotation=90, groupby='cell.labels', num_categories = 7, use_raw=False, swap_axes=False, figsize=(10,5), cmap = 'Reds').style(linewidth = 1, cmap = 'Reds' ).savefig(filename = 'stacked_violin_ext3b1.pdf')"
   ]
  },
  {
   "cell_type": "code",
   "execution_count": null,
   "id": "balanced-delivery",
   "metadata": {},
   "outputs": [],
   "source": []
  },
  {
   "cell_type": "code",
   "execution_count": null,
   "id": "light-geography",
   "metadata": {},
   "outputs": [],
   "source": []
  }
 ],
 "metadata": {
  "kernelspec": {
   "display_name": "Python_env_Hlab",
   "language": "python",
   "name": "python_env_hlab"
  },
  "language_info": {
   "codemirror_mode": {
    "name": "ipython",
    "version": 3
   },
   "file_extension": ".py",
   "mimetype": "text/x-python",
   "name": "python",
   "nbconvert_exporter": "python",
   "pygments_lexer": "ipython3",
   "version": "3.9.4"
  }
 },
 "nbformat": 4,
 "nbformat_minor": 5
}
